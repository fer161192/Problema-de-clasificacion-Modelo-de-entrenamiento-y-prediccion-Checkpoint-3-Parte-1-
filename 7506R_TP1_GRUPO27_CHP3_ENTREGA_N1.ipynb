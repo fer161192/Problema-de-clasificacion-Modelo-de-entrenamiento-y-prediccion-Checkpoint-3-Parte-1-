{
  "cells": [
    {
      "cell_type": "markdown",
      "source": [
        "#Version KNN"
      ],
      "metadata": {
        "id": "PB7OtDCEDz-l"
      }
    },
    {
      "cell_type": "markdown",
      "source": [
        "##Librerias a utilizar"
      ],
      "metadata": {
        "id": "VKm19mmZvdLk"
      }
    },
    {
      "cell_type": "code",
      "execution_count": 1,
      "metadata": {
        "id": "mT5BSejalqmz"
      },
      "outputs": [],
      "source": [
        "#Datos\n",
        "import numpy as np\n",
        "import pandas as pd\n",
        "\n",
        "#Plots\n",
        "import matplotlib.pyplot as plt\n",
        "import seaborn as sns\n",
        "\n",
        "#Modelado\n",
        "from sklearn.model_selection import train_test_split\n",
        "from sklearn.neighbors import KNeighborsClassifier\n",
        "from sklearn.metrics import accuracy_score\n",
        "\n",
        "from sklearn.preprocessing import OneHotEncoder\n",
        "from sklearn.compose import ColumnTransformer"
      ]
    },
    {
      "cell_type": "code",
      "execution_count": 2,
      "metadata": {
        "id": "m4QeGiv3Ixpu"
      },
      "outputs": [],
      "source": [
        "df_test = pd.read_csv('https://github.com/joeldevel/data_tp1_odd/blob/main/hotels_test.csv?raw=true')\n",
        "df = pd.read_csv('https://github.com/joeldevel/data_tp1_odd/blob/main/hotels_train.csv?raw=true')"
      ]
    },
    {
      "cell_type": "code",
      "execution_count": 3,
      "metadata": {
        "id": "x2H_joWdPzi0"
      },
      "outputs": [],
      "source": [
        "df_test_id = df_test['id']"
      ]
    },
    {
      "cell_type": "markdown",
      "source": [
        "##Preprocesamiento"
      ],
      "metadata": {
        "id": "bu2JaRCwECyb"
      }
    },
    {
      "cell_type": "markdown",
      "metadata": {
        "id": "YBSSz1sPam83"
      },
      "source": [
        "Limpiamos los valores faltantes (Ya sabemos cuales son las columnas con valores faltantes, asi que no es necesario mostrar todo de nuevo)"
      ]
    },
    {
      "cell_type": "code",
      "execution_count": 4,
      "metadata": {
        "id": "O7SPnkwWbGoM",
        "colab": {
          "base_uri": "https://localhost:8080/"
        },
        "outputId": "cccd887f-25ff-4610-8b71-7d1c0865d421"
      },
      "outputs": [
        {
          "output_type": "stream",
          "name": "stderr",
          "text": [
            "<ipython-input-4-6b64ca15953c>:2: SettingWithCopyWarning: \n",
            "A value is trying to be set on a copy of a slice from a DataFrame.\n",
            "Try using .loc[row_indexer,col_indexer] = value instead\n",
            "\n",
            "See the caveats in the documentation: https://pandas.pydata.org/pandas-docs/stable/user_guide/indexing.html#returning-a-view-versus-a-copy\n",
            "  df['country'] = df['country'].fillna('Unknown/Desconocido')\n",
            "<ipython-input-4-6b64ca15953c>:3: SettingWithCopyWarning: \n",
            "A value is trying to be set on a copy of a slice from a DataFrame.\n",
            "Try using .loc[row_indexer,col_indexer] = value instead\n",
            "\n",
            "See the caveats in the documentation: https://pandas.pydata.org/pandas-docs/stable/user_guide/indexing.html#returning-a-view-versus-a-copy\n",
            "  df['agent'] = df['agent'].fillna(0)\n",
            "<ipython-input-4-6b64ca15953c>:4: SettingWithCopyWarning: \n",
            "A value is trying to be set on a copy of a slice from a DataFrame.\n",
            "Try using .loc[row_indexer,col_indexer] = value instead\n",
            "\n",
            "See the caveats in the documentation: https://pandas.pydata.org/pandas-docs/stable/user_guide/indexing.html#returning-a-view-versus-a-copy\n",
            "  df['company'] = df['company'].fillna('Ninguno/None')\n"
          ]
        }
      ],
      "source": [
        "df = df.dropna(subset=['children'])\n",
        "df['country'] = df['country'].fillna('Unknown/Desconocido')\n",
        "df['agent'] = df['agent'].fillna(0)\n",
        "df['company'] = df['company'].fillna('Ninguno/None')"
      ]
    },
    {
      "cell_type": "markdown",
      "metadata": {
        "id": "HtX-z_FVItxh"
      },
      "source": [
        "Y lo mismo para el test:"
      ]
    },
    {
      "cell_type": "code",
      "execution_count": 5,
      "metadata": {
        "id": "jfzNy2QBPA0I"
      },
      "outputs": [],
      "source": [
        "def mostrar_nulos(nulos_por_columna):\n",
        "  # Ordena las columnas por cantidad de datos faltantes de menor a mayor\n",
        "  nulos_por_columna_ordenado = nulos_por_columna.sort_values(ascending=True)\n",
        "\n",
        "  print(\"La cantidad de datos faltante por cada columna del dataset es:\\n\\n\", nulos_por_columna_ordenado)"
      ]
    },
    {
      "cell_type": "code",
      "execution_count": 6,
      "metadata": {
        "id": "gNKey-ZgOhTf",
        "colab": {
          "base_uri": "https://localhost:8080/"
        },
        "outputId": "b250437e-75f4-45df-ecc4-fdce0a711319"
      },
      "outputs": [
        {
          "output_type": "stream",
          "name": "stdout",
          "text": [
            "La cantidad de datos faltante por cada columna del dataset es:\n",
            "\n",
            " hotel                                 0\n",
            "total_of_special_requests             0\n",
            "required_car_parking_spaces           0\n",
            "adr                                   0\n",
            "customer_type                         0\n",
            "days_in_waiting_list                  0\n",
            "deposit_type                          0\n",
            "booking_changes                       0\n",
            "assigned_room_type                    0\n",
            "reserved_room_type                    0\n",
            "previous_bookings_not_canceled        0\n",
            "previous_cancellations                0\n",
            "reservation_status_date               0\n",
            "distribution_channel                  0\n",
            "is_repeated_guest                     0\n",
            "meal                                  0\n",
            "babies                                0\n",
            "children                              0\n",
            "adults                                0\n",
            "stays_in_week_nights                  0\n",
            "stays_in_weekend_nights               0\n",
            "arrival_date_day_of_month             0\n",
            "arrival_date_week_number              0\n",
            "arrival_date_month                    0\n",
            "arrival_date_year                     0\n",
            "lead_time                             0\n",
            "market_segment                        0\n",
            "id                                    0\n",
            "country                              95\n",
            "agent                              3363\n",
            "company                           25218\n",
            "dtype: int64\n"
          ]
        }
      ],
      "source": [
        "nulos_por_columna_hotels = df_test.isna().sum()\n",
        "mostrar_nulos(nulos_por_columna_hotels)"
      ]
    },
    {
      "cell_type": "code",
      "execution_count": 7,
      "metadata": {
        "id": "wuzIEb6QPNUj"
      },
      "outputs": [],
      "source": [
        "df_test['country'] = df_test['country'].fillna('Unknown/Desconocido')\n",
        "df_test['agent'] = df_test['agent'].fillna(0)\n",
        "df_test['company'] = df_test['company'].fillna('Ninguno/None')"
      ]
    },
    {
      "cell_type": "markdown",
      "metadata": {
        "id": "aUxGB4WWQdKk"
      },
      "source": [
        "Elimino duplicados:"
      ]
    },
    {
      "cell_type": "code",
      "execution_count": 8,
      "metadata": {
        "id": "FcB96FIWQfuO"
      },
      "outputs": [],
      "source": [
        "df = df.drop_duplicates()\n",
        "df_test = df_test.drop_duplicates()"
      ]
    },
    {
      "cell_type": "markdown",
      "metadata": {
        "id": "majvhc-yb-xi"
      },
      "source": [
        "Veamos como quedó:"
      ]
    },
    {
      "cell_type": "code",
      "execution_count": 9,
      "metadata": {
        "id": "U9DXifWncAlV",
        "colab": {
          "base_uri": "https://localhost:8080/"
        },
        "outputId": "0a28e076-66f7-498a-a972-6c38631f0584"
      },
      "outputs": [
        {
          "output_type": "execute_result",
          "data": {
            "text/plain": [
              "(61909, 32)"
            ]
          },
          "metadata": {},
          "execution_count": 9
        }
      ],
      "source": [
        "df.shape"
      ]
    },
    {
      "cell_type": "code",
      "execution_count": 10,
      "metadata": {
        "id": "2W-lpgO8Q3Tl",
        "colab": {
          "base_uri": "https://localhost:8080/"
        },
        "outputId": "9a3326ac-fd73-41ba-833e-0cc3c6a97094"
      },
      "outputs": [
        {
          "output_type": "execute_result",
          "data": {
            "text/plain": [
              "(26535, 31)"
            ]
          },
          "metadata": {},
          "execution_count": 10
        }
      ],
      "source": [
        "df_test.shape"
      ]
    },
    {
      "cell_type": "code",
      "execution_count": 11,
      "metadata": {
        "id": "eZYSS3Yte5Vi",
        "colab": {
          "base_uri": "https://localhost:8080/"
        },
        "outputId": "4e3c289d-aefe-4271-f7bf-4fe69496eaa1"
      },
      "outputs": [
        {
          "output_type": "execute_result",
          "data": {
            "text/plain": [
              "['hotel',\n",
              " 'lead_time',\n",
              " 'arrival_date_year',\n",
              " 'arrival_date_month',\n",
              " 'arrival_date_week_number',\n",
              " 'arrival_date_day_of_month',\n",
              " 'stays_in_weekend_nights',\n",
              " 'stays_in_week_nights',\n",
              " 'adults',\n",
              " 'children',\n",
              " 'babies',\n",
              " 'meal',\n",
              " 'country',\n",
              " 'market_segment',\n",
              " 'distribution_channel',\n",
              " 'is_repeated_guest',\n",
              " 'previous_cancellations',\n",
              " 'previous_bookings_not_canceled',\n",
              " 'reserved_room_type',\n",
              " 'assigned_room_type',\n",
              " 'booking_changes',\n",
              " 'deposit_type',\n",
              " 'agent',\n",
              " 'company',\n",
              " 'days_in_waiting_list',\n",
              " 'customer_type',\n",
              " 'adr',\n",
              " 'required_car_parking_spaces',\n",
              " 'total_of_special_requests',\n",
              " 'reservation_status_date',\n",
              " 'id',\n",
              " 'is_canceled']"
            ]
          },
          "metadata": {},
          "execution_count": 11
        }
      ],
      "source": [
        "df.columns.tolist()"
      ]
    },
    {
      "cell_type": "code",
      "execution_count": 12,
      "metadata": {
        "id": "tPsl3PXpfHfw",
        "colab": {
          "base_uri": "https://localhost:8080/",
          "height": 0
        },
        "outputId": "7f6d2ebc-44df-4ed5-dfbd-84a8ead46e53"
      },
      "outputs": [
        {
          "output_type": "execute_result",
          "data": {
            "text/plain": [
              "              hotel  lead_time  arrival_date_year arrival_date_month  \\\n",
              "0        City Hotel         49               2016          September   \n",
              "1      Resort Hotel          4               2015            October   \n",
              "2        City Hotel         25               2016            October   \n",
              "3        City Hotel         26               2016           December   \n",
              "4        City Hotel        104               2017              March   \n",
              "...             ...        ...                ...                ...   \n",
              "61908  Resort Hotel         24               2017            January   \n",
              "61909    City Hotel          0               2016          September   \n",
              "61910    City Hotel         10               2017                May   \n",
              "61911  Resort Hotel        143               2015            October   \n",
              "61912    City Hotel         57               2016              April   \n",
              "\n",
              "       arrival_date_week_number  arrival_date_day_of_month  \\\n",
              "0                            37                          5   \n",
              "1                            44                         31   \n",
              "2                            42                         13   \n",
              "3                            51                         12   \n",
              "4                            12                         19   \n",
              "...                         ...                        ...   \n",
              "61908                         4                         27   \n",
              "61909                        36                          2   \n",
              "61910                        19                          8   \n",
              "61911                        41                         10   \n",
              "61912                        17                         17   \n",
              "\n",
              "       stays_in_weekend_nights  stays_in_week_nights  adults  children  ...  \\\n",
              "0                            1                     2       1       0.0  ...   \n",
              "1                            0                     1       2       0.0  ...   \n",
              "2                            0                     1       2       2.0  ...   \n",
              "3                            2                     5       2       0.0  ...   \n",
              "4                            2                     5       2       0.0  ...   \n",
              "...                        ...                   ...     ...       ...  ...   \n",
              "61908                        0                     2       2       0.0  ...   \n",
              "61909                        0                     1       1       0.0  ...   \n",
              "61910                        1                     2       1       0.0  ...   \n",
              "61911                        2                     5       2       0.0  ...   \n",
              "61912                        2                     5       2       0.0  ...   \n",
              "\n",
              "       agent       company days_in_waiting_list    customer_type     adr  \\\n",
              "0        9.0  Ninguno/None                    0        Transient  115.50   \n",
              "1        0.0  Ninguno/None                    0        Transient   42.00   \n",
              "2        9.0  Ninguno/None                    0        Transient  229.00   \n",
              "3      154.0  Ninguno/None                    0        Transient   75.00   \n",
              "4       20.0  Ninguno/None                    0  Transient-Party   75.00   \n",
              "...      ...           ...                  ...              ...     ...   \n",
              "61908  240.0  Ninguno/None                    0        Transient   48.00   \n",
              "61909    0.0  Ninguno/None                    0        Transient  149.00   \n",
              "61910    0.0         153.0                    0        Transient   95.00   \n",
              "61911   96.0  Ninguno/None                    0        Transient   36.05   \n",
              "61912    9.0  Ninguno/None                    0        Transient  143.29   \n",
              "\n",
              "       required_car_parking_spaces  total_of_special_requests  \\\n",
              "0                                0                          1   \n",
              "1                                1                          0   \n",
              "2                                0                          2   \n",
              "3                                0                          0   \n",
              "4                                0                          1   \n",
              "...                            ...                        ...   \n",
              "61908                            0                          1   \n",
              "61909                            0                          0   \n",
              "61910                            0                          0   \n",
              "61911                            0                          0   \n",
              "61912                            0                          0   \n",
              "\n",
              "       reservation_status_date                                    id  \\\n",
              "0                   2016-08-25  7aa4cc6b-b92c-4061-b21d-4f9e0cac4689   \n",
              "1                   2015-11-01  b1428f80-c56c-4ae4-91a9-6962edae08b1   \n",
              "2                   2016-10-14  2226c018-ea20-4c4e-8f71-ea66aee70d7c   \n",
              "3                   2016-11-29  314f56dc-2e4d-4298-9bdd-27bb008bffff   \n",
              "4                   2017-03-26  28c75445-c603-413a-babf-ad377018b592   \n",
              "...                        ...                                   ...   \n",
              "61908               2017-01-23  32bffef5-5404-4e86-9f39-fd2282e1ad7f   \n",
              "61909               2016-09-03  cc922a1c-356e-42a5-a984-0b1af03c2f5c   \n",
              "61910               2017-05-11  76fb0e83-59df-43ee-9c33-aec51030ed45   \n",
              "61911               2015-07-08  01906859-1094-4e37-b13e-b015b594d159   \n",
              "61912               2016-04-09  7137e599-4442-41fb-b147-4aba9f344e38   \n",
              "\n",
              "      is_canceled  \n",
              "0               1  \n",
              "1               0  \n",
              "2               0  \n",
              "3               1  \n",
              "4               0  \n",
              "...           ...  \n",
              "61908           1  \n",
              "61909           0  \n",
              "61910           0  \n",
              "61911           1  \n",
              "61912           1  \n",
              "\n",
              "[61909 rows x 32 columns]"
            ],
            "text/html": [
              "\n",
              "  <div id=\"df-8a6a4b68-374b-4b80-ac11-5bac3a4ea01a\" class=\"colab-df-container\">\n",
              "    <div>\n",
              "<style scoped>\n",
              "    .dataframe tbody tr th:only-of-type {\n",
              "        vertical-align: middle;\n",
              "    }\n",
              "\n",
              "    .dataframe tbody tr th {\n",
              "        vertical-align: top;\n",
              "    }\n",
              "\n",
              "    .dataframe thead th {\n",
              "        text-align: right;\n",
              "    }\n",
              "</style>\n",
              "<table border=\"1\" class=\"dataframe\">\n",
              "  <thead>\n",
              "    <tr style=\"text-align: right;\">\n",
              "      <th></th>\n",
              "      <th>hotel</th>\n",
              "      <th>lead_time</th>\n",
              "      <th>arrival_date_year</th>\n",
              "      <th>arrival_date_month</th>\n",
              "      <th>arrival_date_week_number</th>\n",
              "      <th>arrival_date_day_of_month</th>\n",
              "      <th>stays_in_weekend_nights</th>\n",
              "      <th>stays_in_week_nights</th>\n",
              "      <th>adults</th>\n",
              "      <th>children</th>\n",
              "      <th>...</th>\n",
              "      <th>agent</th>\n",
              "      <th>company</th>\n",
              "      <th>days_in_waiting_list</th>\n",
              "      <th>customer_type</th>\n",
              "      <th>adr</th>\n",
              "      <th>required_car_parking_spaces</th>\n",
              "      <th>total_of_special_requests</th>\n",
              "      <th>reservation_status_date</th>\n",
              "      <th>id</th>\n",
              "      <th>is_canceled</th>\n",
              "    </tr>\n",
              "  </thead>\n",
              "  <tbody>\n",
              "    <tr>\n",
              "      <th>0</th>\n",
              "      <td>City Hotel</td>\n",
              "      <td>49</td>\n",
              "      <td>2016</td>\n",
              "      <td>September</td>\n",
              "      <td>37</td>\n",
              "      <td>5</td>\n",
              "      <td>1</td>\n",
              "      <td>2</td>\n",
              "      <td>1</td>\n",
              "      <td>0.0</td>\n",
              "      <td>...</td>\n",
              "      <td>9.0</td>\n",
              "      <td>Ninguno/None</td>\n",
              "      <td>0</td>\n",
              "      <td>Transient</td>\n",
              "      <td>115.50</td>\n",
              "      <td>0</td>\n",
              "      <td>1</td>\n",
              "      <td>2016-08-25</td>\n",
              "      <td>7aa4cc6b-b92c-4061-b21d-4f9e0cac4689</td>\n",
              "      <td>1</td>\n",
              "    </tr>\n",
              "    <tr>\n",
              "      <th>1</th>\n",
              "      <td>Resort Hotel</td>\n",
              "      <td>4</td>\n",
              "      <td>2015</td>\n",
              "      <td>October</td>\n",
              "      <td>44</td>\n",
              "      <td>31</td>\n",
              "      <td>0</td>\n",
              "      <td>1</td>\n",
              "      <td>2</td>\n",
              "      <td>0.0</td>\n",
              "      <td>...</td>\n",
              "      <td>0.0</td>\n",
              "      <td>Ninguno/None</td>\n",
              "      <td>0</td>\n",
              "      <td>Transient</td>\n",
              "      <td>42.00</td>\n",
              "      <td>1</td>\n",
              "      <td>0</td>\n",
              "      <td>2015-11-01</td>\n",
              "      <td>b1428f80-c56c-4ae4-91a9-6962edae08b1</td>\n",
              "      <td>0</td>\n",
              "    </tr>\n",
              "    <tr>\n",
              "      <th>2</th>\n",
              "      <td>City Hotel</td>\n",
              "      <td>25</td>\n",
              "      <td>2016</td>\n",
              "      <td>October</td>\n",
              "      <td>42</td>\n",
              "      <td>13</td>\n",
              "      <td>0</td>\n",
              "      <td>1</td>\n",
              "      <td>2</td>\n",
              "      <td>2.0</td>\n",
              "      <td>...</td>\n",
              "      <td>9.0</td>\n",
              "      <td>Ninguno/None</td>\n",
              "      <td>0</td>\n",
              "      <td>Transient</td>\n",
              "      <td>229.00</td>\n",
              "      <td>0</td>\n",
              "      <td>2</td>\n",
              "      <td>2016-10-14</td>\n",
              "      <td>2226c018-ea20-4c4e-8f71-ea66aee70d7c</td>\n",
              "      <td>0</td>\n",
              "    </tr>\n",
              "    <tr>\n",
              "      <th>3</th>\n",
              "      <td>City Hotel</td>\n",
              "      <td>26</td>\n",
              "      <td>2016</td>\n",
              "      <td>December</td>\n",
              "      <td>51</td>\n",
              "      <td>12</td>\n",
              "      <td>2</td>\n",
              "      <td>5</td>\n",
              "      <td>2</td>\n",
              "      <td>0.0</td>\n",
              "      <td>...</td>\n",
              "      <td>154.0</td>\n",
              "      <td>Ninguno/None</td>\n",
              "      <td>0</td>\n",
              "      <td>Transient</td>\n",
              "      <td>75.00</td>\n",
              "      <td>0</td>\n",
              "      <td>0</td>\n",
              "      <td>2016-11-29</td>\n",
              "      <td>314f56dc-2e4d-4298-9bdd-27bb008bffff</td>\n",
              "      <td>1</td>\n",
              "    </tr>\n",
              "    <tr>\n",
              "      <th>4</th>\n",
              "      <td>City Hotel</td>\n",
              "      <td>104</td>\n",
              "      <td>2017</td>\n",
              "      <td>March</td>\n",
              "      <td>12</td>\n",
              "      <td>19</td>\n",
              "      <td>2</td>\n",
              "      <td>5</td>\n",
              "      <td>2</td>\n",
              "      <td>0.0</td>\n",
              "      <td>...</td>\n",
              "      <td>20.0</td>\n",
              "      <td>Ninguno/None</td>\n",
              "      <td>0</td>\n",
              "      <td>Transient-Party</td>\n",
              "      <td>75.00</td>\n",
              "      <td>0</td>\n",
              "      <td>1</td>\n",
              "      <td>2017-03-26</td>\n",
              "      <td>28c75445-c603-413a-babf-ad377018b592</td>\n",
              "      <td>0</td>\n",
              "    </tr>\n",
              "    <tr>\n",
              "      <th>...</th>\n",
              "      <td>...</td>\n",
              "      <td>...</td>\n",
              "      <td>...</td>\n",
              "      <td>...</td>\n",
              "      <td>...</td>\n",
              "      <td>...</td>\n",
              "      <td>...</td>\n",
              "      <td>...</td>\n",
              "      <td>...</td>\n",
              "      <td>...</td>\n",
              "      <td>...</td>\n",
              "      <td>...</td>\n",
              "      <td>...</td>\n",
              "      <td>...</td>\n",
              "      <td>...</td>\n",
              "      <td>...</td>\n",
              "      <td>...</td>\n",
              "      <td>...</td>\n",
              "      <td>...</td>\n",
              "      <td>...</td>\n",
              "      <td>...</td>\n",
              "    </tr>\n",
              "    <tr>\n",
              "      <th>61908</th>\n",
              "      <td>Resort Hotel</td>\n",
              "      <td>24</td>\n",
              "      <td>2017</td>\n",
              "      <td>January</td>\n",
              "      <td>4</td>\n",
              "      <td>27</td>\n",
              "      <td>0</td>\n",
              "      <td>2</td>\n",
              "      <td>2</td>\n",
              "      <td>0.0</td>\n",
              "      <td>...</td>\n",
              "      <td>240.0</td>\n",
              "      <td>Ninguno/None</td>\n",
              "      <td>0</td>\n",
              "      <td>Transient</td>\n",
              "      <td>48.00</td>\n",
              "      <td>0</td>\n",
              "      <td>1</td>\n",
              "      <td>2017-01-23</td>\n",
              "      <td>32bffef5-5404-4e86-9f39-fd2282e1ad7f</td>\n",
              "      <td>1</td>\n",
              "    </tr>\n",
              "    <tr>\n",
              "      <th>61909</th>\n",
              "      <td>City Hotel</td>\n",
              "      <td>0</td>\n",
              "      <td>2016</td>\n",
              "      <td>September</td>\n",
              "      <td>36</td>\n",
              "      <td>2</td>\n",
              "      <td>0</td>\n",
              "      <td>1</td>\n",
              "      <td>1</td>\n",
              "      <td>0.0</td>\n",
              "      <td>...</td>\n",
              "      <td>0.0</td>\n",
              "      <td>Ninguno/None</td>\n",
              "      <td>0</td>\n",
              "      <td>Transient</td>\n",
              "      <td>149.00</td>\n",
              "      <td>0</td>\n",
              "      <td>0</td>\n",
              "      <td>2016-09-03</td>\n",
              "      <td>cc922a1c-356e-42a5-a984-0b1af03c2f5c</td>\n",
              "      <td>0</td>\n",
              "    </tr>\n",
              "    <tr>\n",
              "      <th>61910</th>\n",
              "      <td>City Hotel</td>\n",
              "      <td>10</td>\n",
              "      <td>2017</td>\n",
              "      <td>May</td>\n",
              "      <td>19</td>\n",
              "      <td>8</td>\n",
              "      <td>1</td>\n",
              "      <td>2</td>\n",
              "      <td>1</td>\n",
              "      <td>0.0</td>\n",
              "      <td>...</td>\n",
              "      <td>0.0</td>\n",
              "      <td>153.0</td>\n",
              "      <td>0</td>\n",
              "      <td>Transient</td>\n",
              "      <td>95.00</td>\n",
              "      <td>0</td>\n",
              "      <td>0</td>\n",
              "      <td>2017-05-11</td>\n",
              "      <td>76fb0e83-59df-43ee-9c33-aec51030ed45</td>\n",
              "      <td>0</td>\n",
              "    </tr>\n",
              "    <tr>\n",
              "      <th>61911</th>\n",
              "      <td>Resort Hotel</td>\n",
              "      <td>143</td>\n",
              "      <td>2015</td>\n",
              "      <td>October</td>\n",
              "      <td>41</td>\n",
              "      <td>10</td>\n",
              "      <td>2</td>\n",
              "      <td>5</td>\n",
              "      <td>2</td>\n",
              "      <td>0.0</td>\n",
              "      <td>...</td>\n",
              "      <td>96.0</td>\n",
              "      <td>Ninguno/None</td>\n",
              "      <td>0</td>\n",
              "      <td>Transient</td>\n",
              "      <td>36.05</td>\n",
              "      <td>0</td>\n",
              "      <td>0</td>\n",
              "      <td>2015-07-08</td>\n",
              "      <td>01906859-1094-4e37-b13e-b015b594d159</td>\n",
              "      <td>1</td>\n",
              "    </tr>\n",
              "    <tr>\n",
              "      <th>61912</th>\n",
              "      <td>City Hotel</td>\n",
              "      <td>57</td>\n",
              "      <td>2016</td>\n",
              "      <td>April</td>\n",
              "      <td>17</td>\n",
              "      <td>17</td>\n",
              "      <td>2</td>\n",
              "      <td>5</td>\n",
              "      <td>2</td>\n",
              "      <td>0.0</td>\n",
              "      <td>...</td>\n",
              "      <td>9.0</td>\n",
              "      <td>Ninguno/None</td>\n",
              "      <td>0</td>\n",
              "      <td>Transient</td>\n",
              "      <td>143.29</td>\n",
              "      <td>0</td>\n",
              "      <td>0</td>\n",
              "      <td>2016-04-09</td>\n",
              "      <td>7137e599-4442-41fb-b147-4aba9f344e38</td>\n",
              "      <td>1</td>\n",
              "    </tr>\n",
              "  </tbody>\n",
              "</table>\n",
              "<p>61909 rows × 32 columns</p>\n",
              "</div>\n",
              "    <div class=\"colab-df-buttons\">\n",
              "\n",
              "  <div class=\"colab-df-container\">\n",
              "    <button class=\"colab-df-convert\" onclick=\"convertToInteractive('df-8a6a4b68-374b-4b80-ac11-5bac3a4ea01a')\"\n",
              "            title=\"Convert this dataframe to an interactive table.\"\n",
              "            style=\"display:none;\">\n",
              "\n",
              "  <svg xmlns=\"http://www.w3.org/2000/svg\" height=\"24px\" viewBox=\"0 -960 960 960\">\n",
              "    <path d=\"M120-120v-720h720v720H120Zm60-500h600v-160H180v160Zm220 220h160v-160H400v160Zm0 220h160v-160H400v160ZM180-400h160v-160H180v160Zm440 0h160v-160H620v160ZM180-180h160v-160H180v160Zm440 0h160v-160H620v160Z\"/>\n",
              "  </svg>\n",
              "    </button>\n",
              "\n",
              "  <style>\n",
              "    .colab-df-container {\n",
              "      display:flex;\n",
              "      gap: 12px;\n",
              "    }\n",
              "\n",
              "    .colab-df-convert {\n",
              "      background-color: #E8F0FE;\n",
              "      border: none;\n",
              "      border-radius: 50%;\n",
              "      cursor: pointer;\n",
              "      display: none;\n",
              "      fill: #1967D2;\n",
              "      height: 32px;\n",
              "      padding: 0 0 0 0;\n",
              "      width: 32px;\n",
              "    }\n",
              "\n",
              "    .colab-df-convert:hover {\n",
              "      background-color: #E2EBFA;\n",
              "      box-shadow: 0px 1px 2px rgba(60, 64, 67, 0.3), 0px 1px 3px 1px rgba(60, 64, 67, 0.15);\n",
              "      fill: #174EA6;\n",
              "    }\n",
              "\n",
              "    .colab-df-buttons div {\n",
              "      margin-bottom: 4px;\n",
              "    }\n",
              "\n",
              "    [theme=dark] .colab-df-convert {\n",
              "      background-color: #3B4455;\n",
              "      fill: #D2E3FC;\n",
              "    }\n",
              "\n",
              "    [theme=dark] .colab-df-convert:hover {\n",
              "      background-color: #434B5C;\n",
              "      box-shadow: 0px 1px 3px 1px rgba(0, 0, 0, 0.15);\n",
              "      filter: drop-shadow(0px 1px 2px rgba(0, 0, 0, 0.3));\n",
              "      fill: #FFFFFF;\n",
              "    }\n",
              "  </style>\n",
              "\n",
              "    <script>\n",
              "      const buttonEl =\n",
              "        document.querySelector('#df-8a6a4b68-374b-4b80-ac11-5bac3a4ea01a button.colab-df-convert');\n",
              "      buttonEl.style.display =\n",
              "        google.colab.kernel.accessAllowed ? 'block' : 'none';\n",
              "\n",
              "      async function convertToInteractive(key) {\n",
              "        const element = document.querySelector('#df-8a6a4b68-374b-4b80-ac11-5bac3a4ea01a');\n",
              "        const dataTable =\n",
              "          await google.colab.kernel.invokeFunction('convertToInteractive',\n",
              "                                                    [key], {});\n",
              "        if (!dataTable) return;\n",
              "\n",
              "        const docLinkHtml = 'Like what you see? Visit the ' +\n",
              "          '<a target=\"_blank\" href=https://colab.research.google.com/notebooks/data_table.ipynb>data table notebook</a>'\n",
              "          + ' to learn more about interactive tables.';\n",
              "        element.innerHTML = '';\n",
              "        dataTable['output_type'] = 'display_data';\n",
              "        await google.colab.output.renderOutput(dataTable, element);\n",
              "        const docLink = document.createElement('div');\n",
              "        docLink.innerHTML = docLinkHtml;\n",
              "        element.appendChild(docLink);\n",
              "      }\n",
              "    </script>\n",
              "  </div>\n",
              "\n",
              "\n",
              "<div id=\"df-a0cc79ce-d346-497f-82cb-6618b5838f71\">\n",
              "  <button class=\"colab-df-quickchart\" onclick=\"quickchart('df-a0cc79ce-d346-497f-82cb-6618b5838f71')\"\n",
              "            title=\"Suggest charts\"\n",
              "            style=\"display:none;\">\n",
              "\n",
              "<svg xmlns=\"http://www.w3.org/2000/svg\" height=\"24px\"viewBox=\"0 0 24 24\"\n",
              "     width=\"24px\">\n",
              "    <g>\n",
              "        <path d=\"M19 3H5c-1.1 0-2 .9-2 2v14c0 1.1.9 2 2 2h14c1.1 0 2-.9 2-2V5c0-1.1-.9-2-2-2zM9 17H7v-7h2v7zm4 0h-2V7h2v10zm4 0h-2v-4h2v4z\"/>\n",
              "    </g>\n",
              "</svg>\n",
              "  </button>\n",
              "\n",
              "<style>\n",
              "  .colab-df-quickchart {\n",
              "      --bg-color: #E8F0FE;\n",
              "      --fill-color: #1967D2;\n",
              "      --hover-bg-color: #E2EBFA;\n",
              "      --hover-fill-color: #174EA6;\n",
              "      --disabled-fill-color: #AAA;\n",
              "      --disabled-bg-color: #DDD;\n",
              "  }\n",
              "\n",
              "  [theme=dark] .colab-df-quickchart {\n",
              "      --bg-color: #3B4455;\n",
              "      --fill-color: #D2E3FC;\n",
              "      --hover-bg-color: #434B5C;\n",
              "      --hover-fill-color: #FFFFFF;\n",
              "      --disabled-bg-color: #3B4455;\n",
              "      --disabled-fill-color: #666;\n",
              "  }\n",
              "\n",
              "  .colab-df-quickchart {\n",
              "    background-color: var(--bg-color);\n",
              "    border: none;\n",
              "    border-radius: 50%;\n",
              "    cursor: pointer;\n",
              "    display: none;\n",
              "    fill: var(--fill-color);\n",
              "    height: 32px;\n",
              "    padding: 0;\n",
              "    width: 32px;\n",
              "  }\n",
              "\n",
              "  .colab-df-quickchart:hover {\n",
              "    background-color: var(--hover-bg-color);\n",
              "    box-shadow: 0 1px 2px rgba(60, 64, 67, 0.3), 0 1px 3px 1px rgba(60, 64, 67, 0.15);\n",
              "    fill: var(--button-hover-fill-color);\n",
              "  }\n",
              "\n",
              "  .colab-df-quickchart-complete:disabled,\n",
              "  .colab-df-quickchart-complete:disabled:hover {\n",
              "    background-color: var(--disabled-bg-color);\n",
              "    fill: var(--disabled-fill-color);\n",
              "    box-shadow: none;\n",
              "  }\n",
              "\n",
              "  .colab-df-spinner {\n",
              "    border: 2px solid var(--fill-color);\n",
              "    border-color: transparent;\n",
              "    border-bottom-color: var(--fill-color);\n",
              "    animation:\n",
              "      spin 1s steps(1) infinite;\n",
              "  }\n",
              "\n",
              "  @keyframes spin {\n",
              "    0% {\n",
              "      border-color: transparent;\n",
              "      border-bottom-color: var(--fill-color);\n",
              "      border-left-color: var(--fill-color);\n",
              "    }\n",
              "    20% {\n",
              "      border-color: transparent;\n",
              "      border-left-color: var(--fill-color);\n",
              "      border-top-color: var(--fill-color);\n",
              "    }\n",
              "    30% {\n",
              "      border-color: transparent;\n",
              "      border-left-color: var(--fill-color);\n",
              "      border-top-color: var(--fill-color);\n",
              "      border-right-color: var(--fill-color);\n",
              "    }\n",
              "    40% {\n",
              "      border-color: transparent;\n",
              "      border-right-color: var(--fill-color);\n",
              "      border-top-color: var(--fill-color);\n",
              "    }\n",
              "    60% {\n",
              "      border-color: transparent;\n",
              "      border-right-color: var(--fill-color);\n",
              "    }\n",
              "    80% {\n",
              "      border-color: transparent;\n",
              "      border-right-color: var(--fill-color);\n",
              "      border-bottom-color: var(--fill-color);\n",
              "    }\n",
              "    90% {\n",
              "      border-color: transparent;\n",
              "      border-bottom-color: var(--fill-color);\n",
              "    }\n",
              "  }\n",
              "</style>\n",
              "\n",
              "  <script>\n",
              "    async function quickchart(key) {\n",
              "      const quickchartButtonEl =\n",
              "        document.querySelector('#' + key + ' button');\n",
              "      quickchartButtonEl.disabled = true;  // To prevent multiple clicks.\n",
              "      quickchartButtonEl.classList.add('colab-df-spinner');\n",
              "      try {\n",
              "        const charts = await google.colab.kernel.invokeFunction(\n",
              "            'suggestCharts', [key], {});\n",
              "      } catch (error) {\n",
              "        console.error('Error during call to suggestCharts:', error);\n",
              "      }\n",
              "      quickchartButtonEl.classList.remove('colab-df-spinner');\n",
              "      quickchartButtonEl.classList.add('colab-df-quickchart-complete');\n",
              "    }\n",
              "    (() => {\n",
              "      let quickchartButtonEl =\n",
              "        document.querySelector('#df-a0cc79ce-d346-497f-82cb-6618b5838f71 button');\n",
              "      quickchartButtonEl.style.display =\n",
              "        google.colab.kernel.accessAllowed ? 'block' : 'none';\n",
              "    })();\n",
              "  </script>\n",
              "</div>\n",
              "    </div>\n",
              "  </div>\n"
            ],
            "application/vnd.google.colaboratory.intrinsic+json": {
              "type": "dataframe",
              "variable_name": "df"
            }
          },
          "metadata": {},
          "execution_count": 12
        }
      ],
      "source": [
        "df"
      ]
    },
    {
      "cell_type": "markdown",
      "metadata": {
        "id": "Q5sGjgf-e6KH"
      },
      "source": [
        "El objetivo es convertir todas las variables categóricas en numéricas y que la unica variable que quede es is_canceled ya que es la variable a predecir."
      ]
    },
    {
      "cell_type": "code",
      "execution_count": 13,
      "metadata": {
        "id": "v2hV_E2tfKrf"
      },
      "outputs": [],
      "source": [
        "df_aux = df.copy()\n"
      ]
    },
    {
      "cell_type": "markdown",
      "metadata": {
        "id": "qexMkPfjvjrj"
      },
      "source": [
        "Modificamos 'arrival_date_month':"
      ]
    },
    {
      "cell_type": "code",
      "execution_count": 14,
      "metadata": {
        "id": "1lXHIS6lvyD9"
      },
      "outputs": [],
      "source": [
        "df_test['arrival_date_month'] = pd.Categorical(df_test['arrival_date_month']).codes\n",
        "\n",
        "df_aux['arrival_date_month'] = pd.Categorical(df_aux['arrival_date_month']).codes"
      ]
    },
    {
      "cell_type": "markdown",
      "metadata": {
        "id": "Jc6Xik3E0AIp"
      },
      "source": [
        "Realizamos one hot encoding para la variable hotel:"
      ]
    },
    {
      "cell_type": "code",
      "execution_count": 15,
      "metadata": {
        "id": "Tn1Rfiu-zZt8"
      },
      "outputs": [],
      "source": [
        "df_aux = pd.concat([df_aux, pd.get_dummies(df_aux['hotel'], drop_first=True )], axis=1)\n",
        "df_aux.drop(['hotel'], axis='columns', inplace=True)\n"
      ]
    },
    {
      "cell_type": "code",
      "execution_count": 16,
      "metadata": {
        "id": "g39-C9tTThGS"
      },
      "outputs": [],
      "source": [
        "df_test = pd.concat([df_test, pd.get_dummies(df_test['hotel'], drop_first=True )], axis=1)\n",
        "df_test.drop(['hotel'], axis='columns', inplace=True)"
      ]
    },
    {
      "cell_type": "markdown",
      "metadata": {
        "id": "wp2uOs2v7tsx"
      },
      "source": [
        "Genero One hot Encodig para la variable market_segment:"
      ]
    },
    {
      "cell_type": "code",
      "execution_count": 17,
      "metadata": {
        "id": "8ZhWc9p7UoVM",
        "colab": {
          "base_uri": "https://localhost:8080/"
        },
        "outputId": "571e252b-5b16-4d24-a5c3-beb06ebf4638"
      },
      "outputs": [
        {
          "output_type": "execute_result",
          "data": {
            "text/plain": [
              "['Online TA', 'Offline TA/TO', 'Groups', 'Direct', 'Corporate']"
            ]
          },
          "metadata": {},
          "execution_count": 17
        }
      ],
      "source": [
        "lista_market_segment_mayoritarios = df_aux['market_segment'].value_counts().nlargest(5).index.tolist()\n",
        "lista_market_segment_mayoritarios"
      ]
    },
    {
      "cell_type": "code",
      "execution_count": 18,
      "metadata": {
        "id": "MFC1ufB_7v2Y"
      },
      "outputs": [],
      "source": [
        "df_aux['market_segment'] = pd.Series(np.where(~df_aux['market_segment'].isin(lista_market_segment_mayoritarios), 'otro market', df_aux['market_segment']))\n",
        "df_aux = pd.concat([df_aux, pd.get_dummies(df_aux['market_segment'], drop_first=True )], axis=1)\n",
        "df_aux.drop(['market_segment'], axis='columns', inplace=True)"
      ]
    },
    {
      "cell_type": "code",
      "execution_count": 19,
      "metadata": {
        "id": "1aHdeoIiUs0v"
      },
      "outputs": [],
      "source": [
        "df_test['market_segment'] = pd.Series(np.where(~df_test['market_segment'].isin(lista_market_segment_mayoritarios), 'otro market', df_test['market_segment']))\n",
        "df_test = pd.concat([df_test, pd.get_dummies(df_test['market_segment'], drop_first=True )], axis=1)\n",
        "df_test.drop(['market_segment'], axis='columns', inplace=True)"
      ]
    },
    {
      "cell_type": "markdown",
      "metadata": {
        "id": "tQQPgZ5B-tU0"
      },
      "source": [
        "Genero One hot Encodig para la variable distribution_channel:"
      ]
    },
    {
      "cell_type": "code",
      "execution_count": 20,
      "metadata": {
        "id": "WRtb4Bfi-uzM"
      },
      "outputs": [],
      "source": [
        "df_aux['distribution_channel']= df_aux['distribution_channel'].replace('Direct','direct_channel')\n",
        "df_test['distribution_channel']= df_test['distribution_channel'].replace('Direct','direct_channel')"
      ]
    },
    {
      "cell_type": "code",
      "execution_count": 21,
      "metadata": {
        "id": "JyC2WmSOfO8C"
      },
      "outputs": [],
      "source": [
        "lista_distribution_channel_mayoritarios = df_aux['distribution_channel'].value_counts().nlargest(3).index.tolist()\n",
        "lista_distribution_channel_mayoritarios\n",
        "df_aux['distribution_channel'] = pd.Series(np.where(~df_aux['distribution_channel'].isin(lista_distribution_channel_mayoritarios), 'otro distribution channel', df_aux['distribution_channel']))\n",
        "df_aux = pd.concat([df_aux, pd.get_dummies(df_aux['distribution_channel'], drop_first=True )], axis=1)\n",
        "df_aux.drop(['distribution_channel'], axis='columns', inplace=True)\n",
        "df_test['distribution_channel'] = pd.Series(np.where(~df_test['distribution_channel'].isin(lista_distribution_channel_mayoritarios), 'otro distribution channel', df_test['distribution_channel']))\n",
        "df_test = pd.concat([df_test, pd.get_dummies(df_test['distribution_channel'], drop_first=True )], axis=1)\n",
        "df_test.drop(['distribution_channel'], axis='columns', inplace=True)"
      ]
    },
    {
      "cell_type": "code",
      "execution_count": 22,
      "metadata": {
        "id": "NMRzTFAagxEz",
        "colab": {
          "base_uri": "https://localhost:8080/"
        },
        "outputId": "df5cf816-cf7a-4b7f-bc05-03742f90777c"
      },
      "outputs": [
        {
          "output_type": "execute_result",
          "data": {
            "text/plain": [
              "0        D\n",
              "1        A\n",
              "2        F\n",
              "3        A\n",
              "4        A\n",
              "        ..\n",
              "61908    A\n",
              "61909    A\n",
              "61910    A\n",
              "61911    A\n",
              "61912    D\n",
              "Name: reserved_room_type, Length: 61909, dtype: object"
            ]
          },
          "metadata": {},
          "execution_count": 22
        }
      ],
      "source": [
        "df_aux['reserved_room_type']"
      ]
    },
    {
      "cell_type": "markdown",
      "metadata": {
        "id": "7GsywmdGgX5d"
      },
      "source": [
        "Genero One Hot Encodig para la variable assigned_room_type"
      ]
    },
    {
      "cell_type": "code",
      "execution_count": 23,
      "metadata": {
        "id": "TwnrkbQ1NBKI",
        "colab": {
          "base_uri": "https://localhost:8080/"
        },
        "outputId": "f5b0439a-b8bb-41cc-ce7d-6fbc61e08d23"
      },
      "outputs": [
        {
          "output_type": "execute_result",
          "data": {
            "text/plain": [
              "A    40007\n",
              "D    12190\n",
              "E     3779\n",
              "F     1821\n",
              "G     1277\n",
              "C     1127\n",
              "B     1052\n",
              "H      384\n",
              "I      145\n",
              "K      119\n",
              "P        7\n",
              "L        1\n",
              "Name: assigned_room_type, dtype: int64"
            ]
          },
          "metadata": {},
          "execution_count": 23
        }
      ],
      "source": [
        "df_aux['assigned_room_type'].value_counts()"
      ]
    },
    {
      "cell_type": "code",
      "execution_count": 24,
      "metadata": {
        "id": "F9dJNz1zNJvF",
        "colab": {
          "base_uri": "https://localhost:8080/"
        },
        "outputId": "5d6cc449-041d-406c-f7c6-cb71ab2402c7"
      },
      "outputs": [
        {
          "output_type": "execute_result",
          "data": {
            "text/plain": [
              "A    17218\n",
              "D     5316\n",
              "E     1576\n",
              "F      764\n",
              "G      517\n",
              "C      445\n",
              "B      439\n",
              "H      135\n",
              "I       66\n",
              "K       54\n",
              "P        5\n",
              "Name: assigned_room_type, dtype: int64"
            ]
          },
          "metadata": {},
          "execution_count": 24
        }
      ],
      "source": [
        "df_test['assigned_room_type'].value_counts()"
      ]
    },
    {
      "cell_type": "code",
      "execution_count": 25,
      "metadata": {
        "id": "5-rpdRxdNVvR"
      },
      "outputs": [],
      "source": [
        "lista_room_mayoritarios = df_aux['assigned_room_type'].value_counts().nlargest(3).index.tolist()\n",
        "lista_room_mayoritarios\n",
        "df_aux['assigned_room_type'] = pd.Series(np.where(~df_aux['assigned_room_type'].isin(lista_room_mayoritarios), 'room minoritarios', df_aux['assigned_room_type']))\n",
        "df_aux = pd.concat([df_aux, pd.get_dummies(df_aux['assigned_room_type'], drop_first=True )], axis=1)\n",
        "df_aux.drop(['assigned_room_type'], axis='columns', inplace=True)\n",
        "df_test['assigned_room_type'] = pd.Series(np.where(~df_test['assigned_room_type'].isin(lista_room_mayoritarios), 'room minoritarios', df_test['assigned_room_type']))\n",
        "df_test = pd.concat([df_test, pd.get_dummies(df_test['assigned_room_type'], drop_first=True )], axis=1)\n",
        "df_test.drop(['assigned_room_type'], axis='columns', inplace=True)"
      ]
    },
    {
      "cell_type": "code",
      "execution_count": 26,
      "metadata": {
        "id": "JK7lxY6EhFPn"
      },
      "outputs": [],
      "source": [
        "# df_aux = pd.concat([df_aux, pd.get_dummies(df_aux['assigned_room_type'], drop_first=True )], axis=1)\n",
        "# df_aux.drop(['assigned_room_type'], axis='columns', inplace=True)\n",
        "\n",
        "# df_test = pd.concat([df_test, pd.get_dummies(df_test['assigned_room_type'], drop_first=True )], axis=1)\n",
        "# df_test.drop(['assigned_room_type'], axis='columns', inplace=True)"
      ]
    },
    {
      "cell_type": "markdown",
      "metadata": {
        "id": "FO0B0kWtijIE"
      },
      "source": [
        "Genero One Hot Encoding para la variable deposit_type:"
      ]
    },
    {
      "cell_type": "code",
      "execution_count": 27,
      "metadata": {
        "id": "EhcROCX7iXuZ"
      },
      "outputs": [],
      "source": [
        "df_aux = pd.concat([df_aux, pd.get_dummies(df_aux['deposit_type'], drop_first=True )], axis=1)\n",
        "df_aux.drop(['deposit_type'], axis='columns', inplace=True)\n",
        "\n",
        "df_test = pd.concat([df_test, pd.get_dummies(df_test['deposit_type'], drop_first=True )], axis=1)\n",
        "df_test.drop(['deposit_type'], axis='columns', inplace=True)"
      ]
    },
    {
      "cell_type": "markdown",
      "metadata": {
        "id": "-rUBsmjwjBG_"
      },
      "source": [
        "Genero One Hot Encoding para la variable custome_type:  "
      ]
    },
    {
      "cell_type": "code",
      "execution_count": 28,
      "metadata": {
        "id": "j8cZFPRtjNMi"
      },
      "outputs": [],
      "source": [
        "df_aux = pd.concat([df_aux, pd.get_dummies(df_aux['customer_type'], drop_first=True )], axis=1)\n",
        "df_aux.drop(['customer_type'], axis='columns', inplace=True)\n",
        "\n",
        "df_test = pd.concat([df_test, pd.get_dummies(df_test['customer_type'], drop_first=True )], axis=1)\n",
        "df_test.drop(['customer_type'], axis='columns', inplace=True)"
      ]
    },
    {
      "cell_type": "markdown",
      "metadata": {
        "id": "Idnpo77XjoP9"
      },
      "source": [
        "Genero One Hot Encoding para la variable agent:"
      ]
    },
    {
      "cell_type": "code",
      "execution_count": 29,
      "metadata": {
        "id": "Bz4K1M_hj1TO",
        "colab": {
          "base_uri": "https://localhost:8080/"
        },
        "outputId": "8487ef84-78a3-482f-b308-29a529d19589"
      },
      "outputs": [
        {
          "output_type": "execute_result",
          "data": {
            "text/plain": [
              "[9.0, 0.0, 240.0, 1.0, 14.0, 6.0, 7.0, 250.0, 241.0]"
            ]
          },
          "metadata": {},
          "execution_count": 29
        }
      ],
      "source": [
        "lista_agent_mayoritarios = df_aux['agent'].value_counts().nlargest(9).index.tolist()\n",
        "lista_agent_mayoritarios"
      ]
    },
    {
      "cell_type": "code",
      "execution_count": 30,
      "metadata": {
        "id": "-bwdQCywj6iE"
      },
      "outputs": [],
      "source": [
        "df_aux['agent'] = pd.Series(np.where(~df_aux['agent'].isin(lista_agent_mayoritarios), 'otra agencia', df_aux['agent']))\n",
        "df_aux = pd.concat([df_aux, pd.get_dummies(df_aux['agent'], drop_first=True )], axis=1)\n",
        "df_aux.drop(['agent'], axis='columns', inplace=True)\n",
        "\n",
        "df_test['agent'] = pd.Series(np.where(~df_test['agent'].isin(lista_agent_mayoritarios), 'otra agencia', df_test['agent']))\n",
        "df_test = pd.concat([df_test, pd.get_dummies(df_test['agent'], drop_first=True )], axis=1)\n",
        "df_test.drop(['agent'], axis='columns', inplace=True)"
      ]
    },
    {
      "cell_type": "markdown",
      "metadata": {
        "id": "mbKF7Qh6lzfG"
      },
      "source": [
        "Genero One Hot Enconding para la variable company:"
      ]
    },
    {
      "cell_type": "code",
      "execution_count": 31,
      "metadata": {
        "id": "bE0bVGI4l_hb",
        "colab": {
          "base_uri": "https://localhost:8080/"
        },
        "outputId": "04560601-c1e7-439a-be70-823f9d467a36"
      },
      "outputs": [
        {
          "output_type": "execute_result",
          "data": {
            "text/plain": [
              "['Ninguno/None']"
            ]
          },
          "metadata": {},
          "execution_count": 31
        }
      ],
      "source": [
        "lista_company_mayoritarios = df_aux['company'].value_counts().nlargest(1).index.tolist()\n",
        "lista_company_mayoritarios"
      ]
    },
    {
      "cell_type": "code",
      "execution_count": 32,
      "metadata": {
        "id": "rfeqdfDemIR8"
      },
      "outputs": [],
      "source": [
        "df_aux['company'] = pd.Series(np.where(~df_aux['company'].isin(lista_company_mayoritarios), 'con compay', df_aux['company']))\n",
        "df_aux = pd.concat([df_aux, pd.get_dummies(df_aux['company'], drop_first=True )], axis=1)\n",
        "df_aux.drop(['company'], axis='columns', inplace=True)\n",
        "\n",
        "df_test['company'] = pd.Series(np.where(~df_test['company'].isin(lista_company_mayoritarios), 'con compay', df_test['company']))\n",
        "df_test = pd.concat([df_test, pd.get_dummies(df_test['company'], drop_first=True )], axis=1)\n",
        "df_test.drop(['company'], axis='columns', inplace=True)"
      ]
    },
    {
      "cell_type": "markdown",
      "metadata": {
        "id": "KDor9HXeyLgH"
      },
      "source": [
        "Ahora vamos a ver el analisis que haremos con la columna 'Country':"
      ]
    },
    {
      "cell_type": "code",
      "execution_count": 33,
      "metadata": {
        "id": "HP_hy8m0yRHo",
        "colab": {
          "base_uri": "https://localhost:8080/"
        },
        "outputId": "da07f0bc-820f-444e-eea6-e21408ebfe5d"
      },
      "outputs": [
        {
          "output_type": "execute_result",
          "data": {
            "text/plain": [
              "PRT    27946\n",
              "GBR     5733\n",
              "FRA     4809\n",
              "ESP     4210\n",
              "DEU     3312\n",
              "       ...  \n",
              "HND        1\n",
              "FJI        1\n",
              "LIE        1\n",
              "ATA        1\n",
              "RWA        1\n",
              "Name: country, Length: 150, dtype: int64"
            ]
          },
          "metadata": {},
          "execution_count": 33
        }
      ],
      "source": [
        "df_aux['country'].value_counts()"
      ]
    },
    {
      "cell_type": "code",
      "execution_count": 34,
      "metadata": {
        "id": "FGV5yv6sXj9z",
        "colab": {
          "base_uri": "https://localhost:8080/",
          "height": 0
        },
        "outputId": "a70b9e81-8fde-4b4f-8bc6-343326421b9b"
      },
      "outputs": [
        {
          "output_type": "display_data",
          "data": {
            "text/plain": [
              "<Figure size 2000x1000 with 1 Axes>"
            ],
            "image/png": "[encoded data removed]"
          },
          "metadata": {}
        }
      ],
      "source": [
        "plt.figure(figsize=(20,10))\n",
        "sns.countplot(x='country', data=df_aux,order=df_aux['country'].value_counts().index)\n",
        "plt.xticks(rotation=90, fontsize=10)\n",
        "plt.tight_layout()\n",
        "plt.show()"
      ]
    },
    {
      "cell_type": "code",
      "execution_count": 35,
      "metadata": {
        "id": "X0nizxFqfgSg",
        "colab": {
          "base_uri": "https://localhost:8080/"
        },
        "outputId": "f534e25f-2a08-48a0-9ca4-fd664648a34b"
      },
      "outputs": [
        {
          "output_type": "execute_result",
          "data": {
            "text/plain": [
              "['PRT', 'GBR', 'FRA', 'ESP', 'DEU', 'ITA', 'IRL', 'BRA', 'BEL', 'USA']"
            ]
          },
          "metadata": {},
          "execution_count": 35
        }
      ],
      "source": [
        "top_paises = df_aux['country'].value_counts().nlargest(10).index.tolist()\n",
        "top_paises"
      ]
    },
    {
      "cell_type": "code",
      "execution_count": 36,
      "metadata": {
        "id": "fh9_uHwqnjt2"
      },
      "outputs": [],
      "source": [
        "df_aux['country'] = pd.Series(np.where(~df_aux['country'].isin(top_paises), 'Otro Pais', df_aux['country']))\n",
        "df_aux = pd.concat([df_aux, pd.get_dummies(df_aux['country'], drop_first=True )], axis=1)\n",
        "df_aux.drop(['country'], axis='columns', inplace=True)\n",
        "\n",
        "df_test['country'] = pd.Series(np.where(~df_test['country'].isin(top_paises), 'Otro Pais', df_test['country']))\n",
        "df_test = pd.concat([df_test, pd.get_dummies(df_test['country'], drop_first=True )], axis=1)\n",
        "df_test.drop(['country'], axis='columns', inplace=True)"
      ]
    },
    {
      "cell_type": "markdown",
      "metadata": {
        "id": "tIpl7n8Jo-WT"
      },
      "source": [
        "Elimino id porque no sive para nada:"
      ]
    },
    {
      "cell_type": "code",
      "execution_count": 37,
      "metadata": {
        "id": "a_41p-2bpCyh"
      },
      "outputs": [],
      "source": [
        "df_aux = df_aux.drop('id', axis=1)\n",
        "df_test = df_test.drop('id', axis=1)"
      ]
    },
    {
      "cell_type": "code",
      "execution_count": 38,
      "metadata": {
        "id": "8R7qrheypgKx",
        "colab": {
          "base_uri": "https://localhost:8080/",
          "height": 0
        },
        "outputId": "c456ff73-9bc6-48da-bf37-7ed32a8daa82"
      },
      "outputs": [
        {
          "output_type": "execute_result",
          "data": {
            "text/plain": [
              "       lead_time  arrival_date_year  arrival_date_month  \\\n",
              "0             49               2016                  11   \n",
              "1              4               2015                  10   \n",
              "2             25               2016                  10   \n",
              "3             26               2016                   2   \n",
              "4            104               2017                   7   \n",
              "...          ...                ...                 ...   \n",
              "61908         24               2017                   4   \n",
              "61909          0               2016                  11   \n",
              "61910         10               2017                   8   \n",
              "61911        143               2015                  10   \n",
              "61912         57               2016                   0   \n",
              "\n",
              "       arrival_date_week_number  arrival_date_day_of_month  \\\n",
              "0                            37                          5   \n",
              "1                            44                         31   \n",
              "2                            42                         13   \n",
              "3                            51                         12   \n",
              "4                            12                         19   \n",
              "...                         ...                        ...   \n",
              "61908                         4                         27   \n",
              "61909                        36                          2   \n",
              "61910                        19                          8   \n",
              "61911                        41                         10   \n",
              "61912                        17                         17   \n",
              "\n",
              "       stays_in_weekend_nights  stays_in_week_nights  adults  children  \\\n",
              "0                            1                     2       1       0.0   \n",
              "1                            0                     1       2       0.0   \n",
              "2                            0                     1       2       2.0   \n",
              "3                            2                     5       2       0.0   \n",
              "4                            2                     5       2       0.0   \n",
              "...                        ...                   ...     ...       ...   \n",
              "61908                        0                     2       2       0.0   \n",
              "61909                        0                     1       1       0.0   \n",
              "61910                        1                     2       1       0.0   \n",
              "61911                        2                     5       2       0.0   \n",
              "61912                        2                     5       2       0.0   \n",
              "\n",
              "       babies  ... BRA  DEU  ESP  FRA GBR  IRL  ITA  Otro Pais  PRT  USA  \n",
              "0           0  ...   0    0    0    0   0    0    0          0    0    1  \n",
              "1           0  ...   0    0    0    0   0    0    0          0    1    0  \n",
              "2           0  ...   0    0    0    0   0    0    0          1    0    0  \n",
              "3           0  ...   0    0    0    0   0    0    0          0    1    0  \n",
              "4           0  ...   0    0    0    1   0    0    0          0    0    0  \n",
              "...       ...  ...  ..  ...  ...  ...  ..  ...  ...        ...  ...  ...  \n",
              "61908       0  ...   0    0    0    0   0    0    0          1    0    0  \n",
              "61909       0  ...   0    0    0    0   0    0    0          0    0    0  \n",
              "61910       0  ...   0    0    0    0   0    0    0          0    0    0  \n",
              "61911       0  ...   0    0    0    0   0    0    0          0    0    0  \n",
              "61912       0  ...   0    0    0    0   0    0    0          0    0    0  \n",
              "\n",
              "[61909 rows x 59 columns]"
            ],
            "text/html": [
              "\n",
              "  <div id=\"df-733b2ff9-96cf-401e-8d51-a52e8809f52f\" class=\"colab-df-container\">\n",
              "    <div>\n",
              "<style scoped>\n",
              "    .dataframe tbody tr th:only-of-type {\n",
              "        vertical-align: middle;\n",
              "    }\n",
              "\n",
              "    .dataframe tbody tr th {\n",
              "        vertical-align: top;\n",
              "    }\n",
              "\n",
              "    .dataframe thead th {\n",
              "        text-align: right;\n",
              "    }\n",
              "</style>\n",
              "<table border=\"1\" class=\"dataframe\">\n",
              "  <thead>\n",
              "    <tr style=\"text-align: right;\">\n",
              "      <th></th>\n",
              "      <th>lead_time</th>\n",
              "      <th>arrival_date_year</th>\n",
              "      <th>arrival_date_month</th>\n",
              "      <th>arrival_date_week_number</th>\n",
              "      <th>arrival_date_day_of_month</th>\n",
              "      <th>stays_in_weekend_nights</th>\n",
              "      <th>stays_in_week_nights</th>\n",
              "      <th>adults</th>\n",
              "      <th>children</th>\n",
              "      <th>babies</th>\n",
              "      <th>...</th>\n",
              "      <th>BRA</th>\n",
              "      <th>DEU</th>\n",
              "      <th>ESP</th>\n",
              "      <th>FRA</th>\n",
              "      <th>GBR</th>\n",
              "      <th>IRL</th>\n",
              "      <th>ITA</th>\n",
              "      <th>Otro Pais</th>\n",
              "      <th>PRT</th>\n",
              "      <th>USA</th>\n",
              "    </tr>\n",
              "  </thead>\n",
              "  <tbody>\n",
              "    <tr>\n",
              "      <th>0</th>\n",
              "      <td>49</td>\n",
              "      <td>2016</td>\n",
              "      <td>11</td>\n",
              "      <td>37</td>\n",
              "      <td>5</td>\n",
              "      <td>1</td>\n",
              "      <td>2</td>\n",
              "      <td>1</td>\n",
              "      <td>0.0</td>\n",
              "      <td>0</td>\n",
              "      <td>...</td>\n",
              "      <td>0</td>\n",
              "      <td>0</td>\n",
              "      <td>0</td>\n",
              "      <td>0</td>\n",
              "      <td>0</td>\n",
              "      <td>0</td>\n",
              "      <td>0</td>\n",
              "      <td>0</td>\n",
              "      <td>0</td>\n",
              "      <td>1</td>\n",
              "    </tr>\n",
              "    <tr>\n",
              "      <th>1</th>\n",
              "      <td>4</td>\n",
              "      <td>2015</td>\n",
              "      <td>10</td>\n",
              "      <td>44</td>\n",
              "      <td>31</td>\n",
              "      <td>0</td>\n",
              "      <td>1</td>\n",
              "      <td>2</td>\n",
              "      <td>0.0</td>\n",
              "      <td>0</td>\n",
              "      <td>...</td>\n",
              "      <td>0</td>\n",
              "      <td>0</td>\n",
              "      <td>0</td>\n",
              "      <td>0</td>\n",
              "      <td>0</td>\n",
              "      <td>0</td>\n",
              "      <td>0</td>\n",
              "      <td>0</td>\n",
              "      <td>1</td>\n",
              "      <td>0</td>\n",
              "    </tr>\n",
              "    <tr>\n",
              "      <th>2</th>\n",
              "      <td>25</td>\n",
              "      <td>2016</td>\n",
              "      <td>10</td>\n",
              "      <td>42</td>\n",
              "      <td>13</td>\n",
              "      <td>0</td>\n",
              "      <td>1</td>\n",
              "      <td>2</td>\n",
              "      <td>2.0</td>\n",
              "      <td>0</td>\n",
              "      <td>...</td>\n",
              "      <td>0</td>\n",
              "      <td>0</td>\n",
              "      <td>0</td>\n",
              "      <td>0</td>\n",
              "      <td>0</td>\n",
              "      <td>0</td>\n",
              "      <td>0</td>\n",
              "      <td>1</td>\n",
              "      <td>0</td>\n",
              "      <td>0</td>\n",
              "    </tr>\n",
              "    <tr>\n",
              "      <th>3</th>\n",
              "      <td>26</td>\n",
              "      <td>2016</td>\n",
              "      <td>2</td>\n",
              "      <td>51</td>\n",
              "      <td>12</td>\n",
              "      <td>2</td>\n",
              "      <td>5</td>\n",
              "      <td>2</td>\n",
              "      <td>0.0</td>\n",
              "      <td>0</td>\n",
              "      <td>...</td>\n",
              "      <td>0</td>\n",
              "      <td>0</td>\n",
              "      <td>0</td>\n",
              "      <td>0</td>\n",
              "      <td>0</td>\n",
              "      <td>0</td>\n",
              "      <td>0</td>\n",
              "      <td>0</td>\n",
              "      <td>1</td>\n",
              "      <td>0</td>\n",
              "    </tr>\n",
              "    <tr>\n",
              "      <th>4</th>\n",
              "      <td>104</td>\n",
              "      <td>2017</td>\n",
              "      <td>7</td>\n",
              "      <td>12</td>\n",
              "      <td>19</td>\n",
              "      <td>2</td>\n",
              "      <td>5</td>\n",
              "      <td>2</td>\n",
              "      <td>0.0</td>\n",
              "      <td>0</td>\n",
              "      <td>...</td>\n",
              "      <td>0</td>\n",
              "      <td>0</td>\n",
              "      <td>0</td>\n",
              "      <td>1</td>\n",
              "      <td>0</td>\n",
              "      <td>0</td>\n",
              "      <td>0</td>\n",
              "      <td>0</td>\n",
              "      <td>0</td>\n",
              "      <td>0</td>\n",
              "    </tr>\n",
              "    <tr>\n",
              "      <th>...</th>\n",
              "      <td>...</td>\n",
              "      <td>...</td>\n",
              "      <td>...</td>\n",
              "      <td>...</td>\n",
              "      <td>...</td>\n",
              "      <td>...</td>\n",
              "      <td>...</td>\n",
              "      <td>...</td>\n",
              "      <td>...</td>\n",
              "      <td>...</td>\n",
              "      <td>...</td>\n",
              "      <td>...</td>\n",
              "      <td>...</td>\n",
              "      <td>...</td>\n",
              "      <td>...</td>\n",
              "      <td>...</td>\n",
              "      <td>...</td>\n",
              "      <td>...</td>\n",
              "      <td>...</td>\n",
              "      <td>...</td>\n",
              "      <td>...</td>\n",
              "    </tr>\n",
              "    <tr>\n",
              "      <th>61908</th>\n",
              "      <td>24</td>\n",
              "      <td>2017</td>\n",
              "      <td>4</td>\n",
              "      <td>4</td>\n",
              "      <td>27</td>\n",
              "      <td>0</td>\n",
              "      <td>2</td>\n",
              "      <td>2</td>\n",
              "      <td>0.0</td>\n",
              "      <td>0</td>\n",
              "      <td>...</td>\n",
              "      <td>0</td>\n",
              "      <td>0</td>\n",
              "      <td>0</td>\n",
              "      <td>0</td>\n",
              "      <td>0</td>\n",
              "      <td>0</td>\n",
              "      <td>0</td>\n",
              "      <td>1</td>\n",
              "      <td>0</td>\n",
              "      <td>0</td>\n",
              "    </tr>\n",
              "    <tr>\n",
              "      <th>61909</th>\n",
              "      <td>0</td>\n",
              "      <td>2016</td>\n",
              "      <td>11</td>\n",
              "      <td>36</td>\n",
              "      <td>2</td>\n",
              "      <td>0</td>\n",
              "      <td>1</td>\n",
              "      <td>1</td>\n",
              "      <td>0.0</td>\n",
              "      <td>0</td>\n",
              "      <td>...</td>\n",
              "      <td>0</td>\n",
              "      <td>0</td>\n",
              "      <td>0</td>\n",
              "      <td>0</td>\n",
              "      <td>0</td>\n",
              "      <td>0</td>\n",
              "      <td>0</td>\n",
              "      <td>0</td>\n",
              "      <td>0</td>\n",
              "      <td>0</td>\n",
              "    </tr>\n",
              "    <tr>\n",
              "      <th>61910</th>\n",
              "      <td>10</td>\n",
              "      <td>2017</td>\n",
              "      <td>8</td>\n",
              "      <td>19</td>\n",
              "      <td>8</td>\n",
              "      <td>1</td>\n",
              "      <td>2</td>\n",
              "      <td>1</td>\n",
              "      <td>0.0</td>\n",
              "      <td>0</td>\n",
              "      <td>...</td>\n",
              "      <td>0</td>\n",
              "      <td>0</td>\n",
              "      <td>0</td>\n",
              "      <td>0</td>\n",
              "      <td>0</td>\n",
              "      <td>0</td>\n",
              "      <td>0</td>\n",
              "      <td>0</td>\n",
              "      <td>0</td>\n",
              "      <td>0</td>\n",
              "    </tr>\n",
              "    <tr>\n",
              "      <th>61911</th>\n",
              "      <td>143</td>\n",
              "      <td>2015</td>\n",
              "      <td>10</td>\n",
              "      <td>41</td>\n",
              "      <td>10</td>\n",
              "      <td>2</td>\n",
              "      <td>5</td>\n",
              "      <td>2</td>\n",
              "      <td>0.0</td>\n",
              "      <td>0</td>\n",
              "      <td>...</td>\n",
              "      <td>0</td>\n",
              "      <td>0</td>\n",
              "      <td>0</td>\n",
              "      <td>0</td>\n",
              "      <td>0</td>\n",
              "      <td>0</td>\n",
              "      <td>0</td>\n",
              "      <td>0</td>\n",
              "      <td>0</td>\n",
              "      <td>0</td>\n",
              "    </tr>\n",
              "    <tr>\n",
              "      <th>61912</th>\n",
              "      <td>57</td>\n",
              "      <td>2016</td>\n",
              "      <td>0</td>\n",
              "      <td>17</td>\n",
              "      <td>17</td>\n",
              "      <td>2</td>\n",
              "      <td>5</td>\n",
              "      <td>2</td>\n",
              "      <td>0.0</td>\n",
              "      <td>0</td>\n",
              "      <td>...</td>\n",
              "      <td>0</td>\n",
              "      <td>0</td>\n",
              "      <td>0</td>\n",
              "      <td>0</td>\n",
              "      <td>0</td>\n",
              "      <td>0</td>\n",
              "      <td>0</td>\n",
              "      <td>0</td>\n",
              "      <td>0</td>\n",
              "      <td>0</td>\n",
              "    </tr>\n",
              "  </tbody>\n",
              "</table>\n",
              "<p>61909 rows × 59 columns</p>\n",
              "</div>\n",
              "    <div class=\"colab-df-buttons\">\n",
              "\n",
              "  <div class=\"colab-df-container\">\n",
              "    <button class=\"colab-df-convert\" onclick=\"convertToInteractive('df-733b2ff9-96cf-401e-8d51-a52e8809f52f')\"\n",
              "            title=\"Convert this dataframe to an interactive table.\"\n",
              "            style=\"display:none;\">\n",
              "\n",
              "  <svg xmlns=\"http://www.w3.org/2000/svg\" height=\"24px\" viewBox=\"0 -960 960 960\">\n",
              "    <path d=\"M120-120v-720h720v720H120Zm60-500h600v-160H180v160Zm220 220h160v-160H400v160Zm0 220h160v-160H400v160ZM180-400h160v-160H180v160Zm440 0h160v-160H620v160ZM180-180h160v-160H180v160Zm440 0h160v-160H620v160Z\"/>\n",
              "  </svg>\n",
              "    </button>\n",
              "\n",
              "  <style>\n",
              "    .colab-df-container {\n",
              "      display:flex;\n",
              "      gap: 12px;\n",
              "    }\n",
              "\n",
              "    .colab-df-convert {\n",
              "      background-color: #E8F0FE;\n",
              "      border: none;\n",
              "      border-radius: 50%;\n",
              "      cursor: pointer;\n",
              "      display: none;\n",
              "      fill: #1967D2;\n",
              "      height: 32px;\n",
              "      padding: 0 0 0 0;\n",
              "      width: 32px;\n",
              "    }\n",
              "\n",
              "    .colab-df-convert:hover {\n",
              "      background-color: #E2EBFA;\n",
              "      box-shadow: 0px 1px 2px rgba(60, 64, 67, 0.3), 0px 1px 3px 1px rgba(60, 64, 67, 0.15);\n",
              "      fill: #174EA6;\n",
              "    }\n",
              "\n",
              "    .colab-df-buttons div {\n",
              "      margin-bottom: 4px;\n",
              "    }\n",
              "\n",
              "    [theme=dark] .colab-df-convert {\n",
              "      background-color: #3B4455;\n",
              "      fill: #D2E3FC;\n",
              "    }\n",
              "\n",
              "    [theme=dark] .colab-df-convert:hover {\n",
              "      background-color: #434B5C;\n",
              "      box-shadow: 0px 1px 3px 1px rgba(0, 0, 0, 0.15);\n",
              "      filter: drop-shadow(0px 1px 2px rgba(0, 0, 0, 0.3));\n",
              "      fill: #FFFFFF;\n",
              "    }\n",
              "  </style>\n",
              "\n",
              "    <script>\n",
              "      const buttonEl =\n",
              "        document.querySelector('#df-733b2ff9-96cf-401e-8d51-a52e8809f52f button.colab-df-convert');\n",
              "      buttonEl.style.display =\n",
              "        google.colab.kernel.accessAllowed ? 'block' : 'none';\n",
              "\n",
              "      async function convertToInteractive(key) {\n",
              "        const element = document.querySelector('#df-733b2ff9-96cf-401e-8d51-a52e8809f52f');\n",
              "        const dataTable =\n",
              "          await google.colab.kernel.invokeFunction('convertToInteractive',\n",
              "                                                    [key], {});\n",
              "        if (!dataTable) return;\n",
              "\n",
              "        const docLinkHtml = 'Like what you see? Visit the ' +\n",
              "          '<a target=\"_blank\" href=https://colab.research.google.com/notebooks/data_table.ipynb>data table notebook</a>'\n",
              "          + ' to learn more about interactive tables.';\n",
              "        element.innerHTML = '';\n",
              "        dataTable['output_type'] = 'display_data';\n",
              "        await google.colab.output.renderOutput(dataTable, element);\n",
              "        const docLink = document.createElement('div');\n",
              "        docLink.innerHTML = docLinkHtml;\n",
              "        element.appendChild(docLink);\n",
              "      }\n",
              "    </script>\n",
              "  </div>\n",
              "\n",
              "\n",
              "<div id=\"df-99244dc6-7442-442d-aa65-6e1b6066ae13\">\n",
              "  <button class=\"colab-df-quickchart\" onclick=\"quickchart('df-99244dc6-7442-442d-aa65-6e1b6066ae13')\"\n",
              "            title=\"Suggest charts\"\n",
              "            style=\"display:none;\">\n",
              "\n",
              "<svg xmlns=\"http://www.w3.org/2000/svg\" height=\"24px\"viewBox=\"0 0 24 24\"\n",
              "     width=\"24px\">\n",
              "    <g>\n",
              "        <path d=\"M19 3H5c-1.1 0-2 .9-2 2v14c0 1.1.9 2 2 2h14c1.1 0 2-.9 2-2V5c0-1.1-.9-2-2-2zM9 17H7v-7h2v7zm4 0h-2V7h2v10zm4 0h-2v-4h2v4z\"/>\n",
              "    </g>\n",
              "</svg>\n",
              "  </button>\n",
              "\n",
              "<style>\n",
              "  .colab-df-quickchart {\n",
              "      --bg-color: #E8F0FE;\n",
              "      --fill-color: #1967D2;\n",
              "      --hover-bg-color: #E2EBFA;\n",
              "      --hover-fill-color: #174EA6;\n",
              "      --disabled-fill-color: #AAA;\n",
              "      --disabled-bg-color: #DDD;\n",
              "  }\n",
              "\n",
              "  [theme=dark] .colab-df-quickchart {\n",
              "      --bg-color: #3B4455;\n",
              "      --fill-color: #D2E3FC;\n",
              "      --hover-bg-color: #434B5C;\n",
              "      --hover-fill-color: #FFFFFF;\n",
              "      --disabled-bg-color: #3B4455;\n",
              "      --disabled-fill-color: #666;\n",
              "  }\n",
              "\n",
              "  .colab-df-quickchart {\n",
              "    background-color: var(--bg-color);\n",
              "    border: none;\n",
              "    border-radius: 50%;\n",
              "    cursor: pointer;\n",
              "    display: none;\n",
              "    fill: var(--fill-color);\n",
              "    height: 32px;\n",
              "    padding: 0;\n",
              "    width: 32px;\n",
              "  }\n",
              "\n",
              "  .colab-df-quickchart:hover {\n",
              "    background-color: var(--hover-bg-color);\n",
              "    box-shadow: 0 1px 2px rgba(60, 64, 67, 0.3), 0 1px 3px 1px rgba(60, 64, 67, 0.15);\n",
              "    fill: var(--button-hover-fill-color);\n",
              "  }\n",
              "\n",
              "  .colab-df-quickchart-complete:disabled,\n",
              "  .colab-df-quickchart-complete:disabled:hover {\n",
              "    background-color: var(--disabled-bg-color);\n",
              "    fill: var(--disabled-fill-color);\n",
              "    box-shadow: none;\n",
              "  }\n",
              "\n",
              "  .colab-df-spinner {\n",
              "    border: 2px solid var(--fill-color);\n",
              "    border-color: transparent;\n",
              "    border-bottom-color: var(--fill-color);\n",
              "    animation:\n",
              "      spin 1s steps(1) infinite;\n",
              "  }\n",
              "\n",
              "  @keyframes spin {\n",
              "    0% {\n",
              "      border-color: transparent;\n",
              "      border-bottom-color: var(--fill-color);\n",
              "      border-left-color: var(--fill-color);\n",
              "    }\n",
              "    20% {\n",
              "      border-color: transparent;\n",
              "      border-left-color: var(--fill-color);\n",
              "      border-top-color: var(--fill-color);\n",
              "    }\n",
              "    30% {\n",
              "      border-color: transparent;\n",
              "      border-left-color: var(--fill-color);\n",
              "      border-top-color: var(--fill-color);\n",
              "      border-right-color: var(--fill-color);\n",
              "    }\n",
              "    40% {\n",
              "      border-color: transparent;\n",
              "      border-right-color: var(--fill-color);\n",
              "      border-top-color: var(--fill-color);\n",
              "    }\n",
              "    60% {\n",
              "      border-color: transparent;\n",
              "      border-right-color: var(--fill-color);\n",
              "    }\n",
              "    80% {\n",
              "      border-color: transparent;\n",
              "      border-right-color: var(--fill-color);\n",
              "      border-bottom-color: var(--fill-color);\n",
              "    }\n",
              "    90% {\n",
              "      border-color: transparent;\n",
              "      border-bottom-color: var(--fill-color);\n",
              "    }\n",
              "  }\n",
              "</style>\n",
              "\n",
              "  <script>\n",
              "    async function quickchart(key) {\n",
              "      const quickchartButtonEl =\n",
              "        document.querySelector('#' + key + ' button');\n",
              "      quickchartButtonEl.disabled = true;  // To prevent multiple clicks.\n",
              "      quickchartButtonEl.classList.add('colab-df-spinner');\n",
              "      try {\n",
              "        const charts = await google.colab.kernel.invokeFunction(\n",
              "            'suggestCharts', [key], {});\n",
              "      } catch (error) {\n",
              "        console.error('Error during call to suggestCharts:', error);\n",
              "      }\n",
              "      quickchartButtonEl.classList.remove('colab-df-spinner');\n",
              "      quickchartButtonEl.classList.add('colab-df-quickchart-complete');\n",
              "    }\n",
              "    (() => {\n",
              "      let quickchartButtonEl =\n",
              "        document.querySelector('#df-99244dc6-7442-442d-aa65-6e1b6066ae13 button');\n",
              "      quickchartButtonEl.style.display =\n",
              "        google.colab.kernel.accessAllowed ? 'block' : 'none';\n",
              "    })();\n",
              "  </script>\n",
              "</div>\n",
              "    </div>\n",
              "  </div>\n"
            ],
            "application/vnd.google.colaboratory.intrinsic+json": {
              "type": "dataframe",
              "variable_name": "df_aux"
            }
          },
          "metadata": {},
          "execution_count": 38
        }
      ],
      "source": [
        "df_aux"
      ]
    },
    {
      "cell_type": "code",
      "execution_count": 39,
      "metadata": {
        "id": "eFKfc9lWpkZT",
        "colab": {
          "base_uri": "https://localhost:8080/",
          "height": 0
        },
        "outputId": "98da43c8-cd35-40a9-9063-bf5b6ba3016f"
      },
      "outputs": [
        {
          "output_type": "execute_result",
          "data": {
            "text/plain": [
              "       lead_time  arrival_date_year  arrival_date_month  \\\n",
              "0            277               2016                   9   \n",
              "1            286               2016                   8   \n",
              "2              0               2016                   1   \n",
              "3            196               2016                  10   \n",
              "4            232               2016                   9   \n",
              "...          ...                ...                 ...   \n",
              "26530         31               2017                   0   \n",
              "26531        130               2016                  11   \n",
              "26532         45               2016                   1   \n",
              "26533        164               2017                   1   \n",
              "26534        136               2016                   7   \n",
              "\n",
              "       arrival_date_week_number  arrival_date_day_of_month  \\\n",
              "0                            46                          7   \n",
              "1                            20                         11   \n",
              "2                            35                         23   \n",
              "3                            44                         29   \n",
              "4                            48                         26   \n",
              "...                         ...                        ...   \n",
              "26530                        16                         21   \n",
              "26531                        36                          3   \n",
              "26532                        35                         22   \n",
              "26533                        32                         10   \n",
              "26534                        13                         24   \n",
              "\n",
              "       stays_in_weekend_nights  stays_in_week_nights  adults  children  \\\n",
              "0                            1                     2       2       0.0   \n",
              "1                            0                     4       2       0.0   \n",
              "2                            0                     1       3       0.0   \n",
              "3                            2                     5       2       2.0   \n",
              "4                            2                     1       2       0.0   \n",
              "...                        ...                   ...     ...       ...   \n",
              "26530                        2                     3       2       0.0   \n",
              "26531                        2                     1       2       0.0   \n",
              "26532                        1                     1       2       0.0   \n",
              "26533                        2                     4       2       0.0   \n",
              "26534                        0                     3       2       0.0   \n",
              "\n",
              "       babies  ... BRA  DEU  ESP  FRA GBR  IRL  ITA  Otro Pais  PRT  USA  \n",
              "0           0  ...   0    0    0    0   0    0    0          0    1    0  \n",
              "1           0  ...   0    0    0    0   0    0    0          0    1    0  \n",
              "2           0  ...   0    0    0    1   0    0    0          0    0    0  \n",
              "3           0  ...   0    1    0    0   0    0    0          0    0    0  \n",
              "4           0  ...   0    0    0    0   0    0    0          0    1    0  \n",
              "...       ...  ...  ..  ...  ...  ...  ..  ...  ...        ...  ...  ...  \n",
              "26530       0  ...   0    1    0    0   0    0    0          0    0    0  \n",
              "26531       0  ...   0    0    0    0   1    0    0          0    0    0  \n",
              "26532       0  ...   0    0    1    0   0    0    0          0    0    0  \n",
              "26533       0  ...   0    0    0    0   0    0    0          0    1    0  \n",
              "26534       0  ...   0    0    1    0   0    0    0          0    0    0  \n",
              "\n",
              "[26535 rows x 58 columns]"
            ],
            "text/html": [
              "\n",
              "  <div id=\"df-65c7d941-bf80-44e1-a26b-b0359504ce82\" class=\"colab-df-container\">\n",
              "    <div>\n",
              "<style scoped>\n",
              "    .dataframe tbody tr th:only-of-type {\n",
              "        vertical-align: middle;\n",
              "    }\n",
              "\n",
              "    .dataframe tbody tr th {\n",
              "        vertical-align: top;\n",
              "    }\n",
              "\n",
              "    .dataframe thead th {\n",
              "        text-align: right;\n",
              "    }\n",
              "</style>\n",
              "<table border=\"1\" class=\"dataframe\">\n",
              "  <thead>\n",
              "    <tr style=\"text-align: right;\">\n",
              "      <th></th>\n",
              "      <th>lead_time</th>\n",
              "      <th>arrival_date_year</th>\n",
              "      <th>arrival_date_month</th>\n",
              "      <th>arrival_date_week_number</th>\n",
              "      <th>arrival_date_day_of_month</th>\n",
              "      <th>stays_in_weekend_nights</th>\n",
              "      <th>stays_in_week_nights</th>\n",
              "      <th>adults</th>\n",
              "      <th>children</th>\n",
              "      <th>babies</th>\n",
              "      <th>...</th>\n",
              "      <th>BRA</th>\n",
              "      <th>DEU</th>\n",
              "      <th>ESP</th>\n",
              "      <th>FRA</th>\n",
              "      <th>GBR</th>\n",
              "      <th>IRL</th>\n",
              "      <th>ITA</th>\n",
              "      <th>Otro Pais</th>\n",
              "      <th>PRT</th>\n",
              "      <th>USA</th>\n",
              "    </tr>\n",
              "  </thead>\n",
              "  <tbody>\n",
              "    <tr>\n",
              "      <th>0</th>\n",
              "      <td>277</td>\n",
              "      <td>2016</td>\n",
              "      <td>9</td>\n",
              "      <td>46</td>\n",
              "      <td>7</td>\n",
              "      <td>1</td>\n",
              "      <td>2</td>\n",
              "      <td>2</td>\n",
              "      <td>0.0</td>\n",
              "      <td>0</td>\n",
              "      <td>...</td>\n",
              "      <td>0</td>\n",
              "      <td>0</td>\n",
              "      <td>0</td>\n",
              "      <td>0</td>\n",
              "      <td>0</td>\n",
              "      <td>0</td>\n",
              "      <td>0</td>\n",
              "      <td>0</td>\n",
              "      <td>1</td>\n",
              "      <td>0</td>\n",
              "    </tr>\n",
              "    <tr>\n",
              "      <th>1</th>\n",
              "      <td>286</td>\n",
              "      <td>2016</td>\n",
              "      <td>8</td>\n",
              "      <td>20</td>\n",
              "      <td>11</td>\n",
              "      <td>0</td>\n",
              "      <td>4</td>\n",
              "      <td>2</td>\n",
              "      <td>0.0</td>\n",
              "      <td>0</td>\n",
              "      <td>...</td>\n",
              "      <td>0</td>\n",
              "      <td>0</td>\n",
              "      <td>0</td>\n",
              "      <td>0</td>\n",
              "      <td>0</td>\n",
              "      <td>0</td>\n",
              "      <td>0</td>\n",
              "      <td>0</td>\n",
              "      <td>1</td>\n",
              "      <td>0</td>\n",
              "    </tr>\n",
              "    <tr>\n",
              "      <th>2</th>\n",
              "      <td>0</td>\n",
              "      <td>2016</td>\n",
              "      <td>1</td>\n",
              "      <td>35</td>\n",
              "      <td>23</td>\n",
              "      <td>0</td>\n",
              "      <td>1</td>\n",
              "      <td>3</td>\n",
              "      <td>0.0</td>\n",
              "      <td>0</td>\n",
              "      <td>...</td>\n",
              "      <td>0</td>\n",
              "      <td>0</td>\n",
              "      <td>0</td>\n",
              "      <td>1</td>\n",
              "      <td>0</td>\n",
              "      <td>0</td>\n",
              "      <td>0</td>\n",
              "      <td>0</td>\n",
              "      <td>0</td>\n",
              "      <td>0</td>\n",
              "    </tr>\n",
              "    <tr>\n",
              "      <th>3</th>\n",
              "      <td>196</td>\n",
              "      <td>2016</td>\n",
              "      <td>10</td>\n",
              "      <td>44</td>\n",
              "      <td>29</td>\n",
              "      <td>2</td>\n",
              "      <td>5</td>\n",
              "      <td>2</td>\n",
              "      <td>2.0</td>\n",
              "      <td>0</td>\n",
              "      <td>...</td>\n",
              "      <td>0</td>\n",
              "      <td>1</td>\n",
              "      <td>0</td>\n",
              "      <td>0</td>\n",
              "      <td>0</td>\n",
              "      <td>0</td>\n",
              "      <td>0</td>\n",
              "      <td>0</td>\n",
              "      <td>0</td>\n",
              "      <td>0</td>\n",
              "    </tr>\n",
              "    <tr>\n",
              "      <th>4</th>\n",
              "      <td>232</td>\n",
              "      <td>2016</td>\n",
              "      <td>9</td>\n",
              "      <td>48</td>\n",
              "      <td>26</td>\n",
              "      <td>2</td>\n",
              "      <td>1</td>\n",
              "      <td>2</td>\n",
              "      <td>0.0</td>\n",
              "      <td>0</td>\n",
              "      <td>...</td>\n",
              "      <td>0</td>\n",
              "      <td>0</td>\n",
              "      <td>0</td>\n",
              "      <td>0</td>\n",
              "      <td>0</td>\n",
              "      <td>0</td>\n",
              "      <td>0</td>\n",
              "      <td>0</td>\n",
              "      <td>1</td>\n",
              "      <td>0</td>\n",
              "    </tr>\n",
              "    <tr>\n",
              "      <th>...</th>\n",
              "      <td>...</td>\n",
              "      <td>...</td>\n",
              "      <td>...</td>\n",
              "      <td>...</td>\n",
              "      <td>...</td>\n",
              "      <td>...</td>\n",
              "      <td>...</td>\n",
              "      <td>...</td>\n",
              "      <td>...</td>\n",
              "      <td>...</td>\n",
              "      <td>...</td>\n",
              "      <td>...</td>\n",
              "      <td>...</td>\n",
              "      <td>...</td>\n",
              "      <td>...</td>\n",
              "      <td>...</td>\n",
              "      <td>...</td>\n",
              "      <td>...</td>\n",
              "      <td>...</td>\n",
              "      <td>...</td>\n",
              "      <td>...</td>\n",
              "    </tr>\n",
              "    <tr>\n",
              "      <th>26530</th>\n",
              "      <td>31</td>\n",
              "      <td>2017</td>\n",
              "      <td>0</td>\n",
              "      <td>16</td>\n",
              "      <td>21</td>\n",
              "      <td>2</td>\n",
              "      <td>3</td>\n",
              "      <td>2</td>\n",
              "      <td>0.0</td>\n",
              "      <td>0</td>\n",
              "      <td>...</td>\n",
              "      <td>0</td>\n",
              "      <td>1</td>\n",
              "      <td>0</td>\n",
              "      <td>0</td>\n",
              "      <td>0</td>\n",
              "      <td>0</td>\n",
              "      <td>0</td>\n",
              "      <td>0</td>\n",
              "      <td>0</td>\n",
              "      <td>0</td>\n",
              "    </tr>\n",
              "    <tr>\n",
              "      <th>26531</th>\n",
              "      <td>130</td>\n",
              "      <td>2016</td>\n",
              "      <td>11</td>\n",
              "      <td>36</td>\n",
              "      <td>3</td>\n",
              "      <td>2</td>\n",
              "      <td>1</td>\n",
              "      <td>2</td>\n",
              "      <td>0.0</td>\n",
              "      <td>0</td>\n",
              "      <td>...</td>\n",
              "      <td>0</td>\n",
              "      <td>0</td>\n",
              "      <td>0</td>\n",
              "      <td>0</td>\n",
              "      <td>1</td>\n",
              "      <td>0</td>\n",
              "      <td>0</td>\n",
              "      <td>0</td>\n",
              "      <td>0</td>\n",
              "      <td>0</td>\n",
              "    </tr>\n",
              "    <tr>\n",
              "      <th>26532</th>\n",
              "      <td>45</td>\n",
              "      <td>2016</td>\n",
              "      <td>1</td>\n",
              "      <td>35</td>\n",
              "      <td>22</td>\n",
              "      <td>1</td>\n",
              "      <td>1</td>\n",
              "      <td>2</td>\n",
              "      <td>0.0</td>\n",
              "      <td>0</td>\n",
              "      <td>...</td>\n",
              "      <td>0</td>\n",
              "      <td>0</td>\n",
              "      <td>1</td>\n",
              "      <td>0</td>\n",
              "      <td>0</td>\n",
              "      <td>0</td>\n",
              "      <td>0</td>\n",
              "      <td>0</td>\n",
              "      <td>0</td>\n",
              "      <td>0</td>\n",
              "    </tr>\n",
              "    <tr>\n",
              "      <th>26533</th>\n",
              "      <td>164</td>\n",
              "      <td>2017</td>\n",
              "      <td>1</td>\n",
              "      <td>32</td>\n",
              "      <td>10</td>\n",
              "      <td>2</td>\n",
              "      <td>4</td>\n",
              "      <td>2</td>\n",
              "      <td>0.0</td>\n",
              "      <td>0</td>\n",
              "      <td>...</td>\n",
              "      <td>0</td>\n",
              "      <td>0</td>\n",
              "      <td>0</td>\n",
              "      <td>0</td>\n",
              "      <td>0</td>\n",
              "      <td>0</td>\n",
              "      <td>0</td>\n",
              "      <td>0</td>\n",
              "      <td>1</td>\n",
              "      <td>0</td>\n",
              "    </tr>\n",
              "    <tr>\n",
              "      <th>26534</th>\n",
              "      <td>136</td>\n",
              "      <td>2016</td>\n",
              "      <td>7</td>\n",
              "      <td>13</td>\n",
              "      <td>24</td>\n",
              "      <td>0</td>\n",
              "      <td>3</td>\n",
              "      <td>2</td>\n",
              "      <td>0.0</td>\n",
              "      <td>0</td>\n",
              "      <td>...</td>\n",
              "      <td>0</td>\n",
              "      <td>0</td>\n",
              "      <td>1</td>\n",
              "      <td>0</td>\n",
              "      <td>0</td>\n",
              "      <td>0</td>\n",
              "      <td>0</td>\n",
              "      <td>0</td>\n",
              "      <td>0</td>\n",
              "      <td>0</td>\n",
              "    </tr>\n",
              "  </tbody>\n",
              "</table>\n",
              "<p>26535 rows × 58 columns</p>\n",
              "</div>\n",
              "    <div class=\"colab-df-buttons\">\n",
              "\n",
              "  <div class=\"colab-df-container\">\n",
              "    <button class=\"colab-df-convert\" onclick=\"convertToInteractive('df-65c7d941-bf80-44e1-a26b-b0359504ce82')\"\n",
              "            title=\"Convert this dataframe to an interactive table.\"\n",
              "            style=\"display:none;\">\n",
              "\n",
              "  <svg xmlns=\"http://www.w3.org/2000/svg\" height=\"24px\" viewBox=\"0 -960 960 960\">\n",
              "    <path d=\"M120-120v-720h720v720H120Zm60-500h600v-160H180v160Zm220 220h160v-160H400v160Zm0 220h160v-160H400v160ZM180-400h160v-160H180v160Zm440 0h160v-160H620v160ZM180-180h160v-160H180v160Zm440 0h160v-160H620v160Z\"/>\n",
              "  </svg>\n",
              "    </button>\n",
              "\n",
              "  <style>\n",
              "    .colab-df-container {\n",
              "      display:flex;\n",
              "      gap: 12px;\n",
              "    }\n",
              "\n",
              "    .colab-df-convert {\n",
              "      background-color: #E8F0FE;\n",
              "      border: none;\n",
              "      border-radius: 50%;\n",
              "      cursor: pointer;\n",
              "      display: none;\n",
              "      fill: #1967D2;\n",
              "      height: 32px;\n",
              "      padding: 0 0 0 0;\n",
              "      width: 32px;\n",
              "    }\n",
              "\n",
              "    .colab-df-convert:hover {\n",
              "      background-color: #E2EBFA;\n",
              "      box-shadow: 0px 1px 2px rgba(60, 64, 67, 0.3), 0px 1px 3px 1px rgba(60, 64, 67, 0.15);\n",
              "      fill: #174EA6;\n",
              "    }\n",
              "\n",
              "    .colab-df-buttons div {\n",
              "      margin-bottom: 4px;\n",
              "    }\n",
              "\n",
              "    [theme=dark] .colab-df-convert {\n",
              "      background-color: #3B4455;\n",
              "      fill: #D2E3FC;\n",
              "    }\n",
              "\n",
              "    [theme=dark] .colab-df-convert:hover {\n",
              "      background-color: #434B5C;\n",
              "      box-shadow: 0px 1px 3px 1px rgba(0, 0, 0, 0.15);\n",
              "      filter: drop-shadow(0px 1px 2px rgba(0, 0, 0, 0.3));\n",
              "      fill: #FFFFFF;\n",
              "    }\n",
              "  </style>\n",
              "\n",
              "    <script>\n",
              "      const buttonEl =\n",
              "        document.querySelector('#df-65c7d941-bf80-44e1-a26b-b0359504ce82 button.colab-df-convert');\n",
              "      buttonEl.style.display =\n",
              "        google.colab.kernel.accessAllowed ? 'block' : 'none';\n",
              "\n",
              "      async function convertToInteractive(key) {\n",
              "        const element = document.querySelector('#df-65c7d941-bf80-44e1-a26b-b0359504ce82');\n",
              "        const dataTable =\n",
              "          await google.colab.kernel.invokeFunction('convertToInteractive',\n",
              "                                                    [key], {});\n",
              "        if (!dataTable) return;\n",
              "\n",
              "        const docLinkHtml = 'Like what you see? Visit the ' +\n",
              "          '<a target=\"_blank\" href=https://colab.research.google.com/notebooks/data_table.ipynb>data table notebook</a>'\n",
              "          + ' to learn more about interactive tables.';\n",
              "        element.innerHTML = '';\n",
              "        dataTable['output_type'] = 'display_data';\n",
              "        await google.colab.output.renderOutput(dataTable, element);\n",
              "        const docLink = document.createElement('div');\n",
              "        docLink.innerHTML = docLinkHtml;\n",
              "        element.appendChild(docLink);\n",
              "      }\n",
              "    </script>\n",
              "  </div>\n",
              "\n",
              "\n",
              "<div id=\"df-7a5e414e-63f5-4af4-8b39-7b1b874fc532\">\n",
              "  <button class=\"colab-df-quickchart\" onclick=\"quickchart('df-7a5e414e-63f5-4af4-8b39-7b1b874fc532')\"\n",
              "            title=\"Suggest charts\"\n",
              "            style=\"display:none;\">\n",
              "\n",
              "<svg xmlns=\"http://www.w3.org/2000/svg\" height=\"24px\"viewBox=\"0 0 24 24\"\n",
              "     width=\"24px\">\n",
              "    <g>\n",
              "        <path d=\"M19 3H5c-1.1 0-2 .9-2 2v14c0 1.1.9 2 2 2h14c1.1 0 2-.9 2-2V5c0-1.1-.9-2-2-2zM9 17H7v-7h2v7zm4 0h-2V7h2v10zm4 0h-2v-4h2v4z\"/>\n",
              "    </g>\n",
              "</svg>\n",
              "  </button>\n",
              "\n",
              "<style>\n",
              "  .colab-df-quickchart {\n",
              "      --bg-color: #E8F0FE;\n",
              "      --fill-color: #1967D2;\n",
              "      --hover-bg-color: #E2EBFA;\n",
              "      --hover-fill-color: #174EA6;\n",
              "      --disabled-fill-color: #AAA;\n",
              "      --disabled-bg-color: #DDD;\n",
              "  }\n",
              "\n",
              "  [theme=dark] .colab-df-quickchart {\n",
              "      --bg-color: #3B4455;\n",
              "      --fill-color: #D2E3FC;\n",
              "      --hover-bg-color: #434B5C;\n",
              "      --hover-fill-color: #FFFFFF;\n",
              "      --disabled-bg-color: #3B4455;\n",
              "      --disabled-fill-color: #666;\n",
              "  }\n",
              "\n",
              "  .colab-df-quickchart {\n",
              "    background-color: var(--bg-color);\n",
              "    border: none;\n",
              "    border-radius: 50%;\n",
              "    cursor: pointer;\n",
              "    display: none;\n",
              "    fill: var(--fill-color);\n",
              "    height: 32px;\n",
              "    padding: 0;\n",
              "    width: 32px;\n",
              "  }\n",
              "\n",
              "  .colab-df-quickchart:hover {\n",
              "    background-color: var(--hover-bg-color);\n",
              "    box-shadow: 0 1px 2px rgba(60, 64, 67, 0.3), 0 1px 3px 1px rgba(60, 64, 67, 0.15);\n",
              "    fill: var(--button-hover-fill-color);\n",
              "  }\n",
              "\n",
              "  .colab-df-quickchart-complete:disabled,\n",
              "  .colab-df-quickchart-complete:disabled:hover {\n",
              "    background-color: var(--disabled-bg-color);\n",
              "    fill: var(--disabled-fill-color);\n",
              "    box-shadow: none;\n",
              "  }\n",
              "\n",
              "  .colab-df-spinner {\n",
              "    border: 2px solid var(--fill-color);\n",
              "    border-color: transparent;\n",
              "    border-bottom-color: var(--fill-color);\n",
              "    animation:\n",
              "      spin 1s steps(1) infinite;\n",
              "  }\n",
              "\n",
              "  @keyframes spin {\n",
              "    0% {\n",
              "      border-color: transparent;\n",
              "      border-bottom-color: var(--fill-color);\n",
              "      border-left-color: var(--fill-color);\n",
              "    }\n",
              "    20% {\n",
              "      border-color: transparent;\n",
              "      border-left-color: var(--fill-color);\n",
              "      border-top-color: var(--fill-color);\n",
              "    }\n",
              "    30% {\n",
              "      border-color: transparent;\n",
              "      border-left-color: var(--fill-color);\n",
              "      border-top-color: var(--fill-color);\n",
              "      border-right-color: var(--fill-color);\n",
              "    }\n",
              "    40% {\n",
              "      border-color: transparent;\n",
              "      border-right-color: var(--fill-color);\n",
              "      border-top-color: var(--fill-color);\n",
              "    }\n",
              "    60% {\n",
              "      border-color: transparent;\n",
              "      border-right-color: var(--fill-color);\n",
              "    }\n",
              "    80% {\n",
              "      border-color: transparent;\n",
              "      border-right-color: var(--fill-color);\n",
              "      border-bottom-color: var(--fill-color);\n",
              "    }\n",
              "    90% {\n",
              "      border-color: transparent;\n",
              "      border-bottom-color: var(--fill-color);\n",
              "    }\n",
              "  }\n",
              "</style>\n",
              "\n",
              "  <script>\n",
              "    async function quickchart(key) {\n",
              "      const quickchartButtonEl =\n",
              "        document.querySelector('#' + key + ' button');\n",
              "      quickchartButtonEl.disabled = true;  // To prevent multiple clicks.\n",
              "      quickchartButtonEl.classList.add('colab-df-spinner');\n",
              "      try {\n",
              "        const charts = await google.colab.kernel.invokeFunction(\n",
              "            'suggestCharts', [key], {});\n",
              "      } catch (error) {\n",
              "        console.error('Error during call to suggestCharts:', error);\n",
              "      }\n",
              "      quickchartButtonEl.classList.remove('colab-df-spinner');\n",
              "      quickchartButtonEl.classList.add('colab-df-quickchart-complete');\n",
              "    }\n",
              "    (() => {\n",
              "      let quickchartButtonEl =\n",
              "        document.querySelector('#df-7a5e414e-63f5-4af4-8b39-7b1b874fc532 button');\n",
              "      quickchartButtonEl.style.display =\n",
              "        google.colab.kernel.accessAllowed ? 'block' : 'none';\n",
              "    })();\n",
              "  </script>\n",
              "</div>\n",
              "    </div>\n",
              "  </div>\n"
            ],
            "application/vnd.google.colaboratory.intrinsic+json": {
              "type": "dataframe",
              "variable_name": "df_test"
            }
          },
          "metadata": {},
          "execution_count": 39
        }
      ],
      "source": [
        "df_test"
      ]
    },
    {
      "cell_type": "code",
      "execution_count": 40,
      "metadata": {
        "id": "-fOkL6-v0QOQ",
        "colab": {
          "base_uri": "https://localhost:8080/"
        },
        "outputId": "8920b721-ca8e-4c5b-f91e-5c43d6247119"
      },
      "outputs": [
        {
          "output_type": "stream",
          "name": "stdout",
          "text": [
            "['meal', 'reserved_room_type', 'reservation_status_date']\n"
          ]
        }
      ],
      "source": [
        "object_cols = df_aux.select_dtypes(include='object').columns.tolist()\n",
        "print(object_cols)"
      ]
    },
    {
      "cell_type": "code",
      "execution_count": 41,
      "metadata": {
        "id": "RG0dkLQX0TpO",
        "colab": {
          "base_uri": "https://localhost:8080/"
        },
        "outputId": "35e33d31-1a6a-41d4-b65d-44c586ae41a8"
      },
      "outputs": [
        {
          "output_type": "stream",
          "name": "stdout",
          "text": [
            "['meal', 'reserved_room_type', 'reservation_status_date']\n"
          ]
        }
      ],
      "source": [
        "object_cols1 = df_test.select_dtypes(include='object').columns.tolist()\n",
        "print(object_cols1)"
      ]
    },
    {
      "cell_type": "code",
      "execution_count": 42,
      "metadata": {
        "id": "mmTlGh2g1IDI"
      },
      "outputs": [],
      "source": [
        "df_test['meal'] = pd.Categorical(df_test['meal']).codes\n",
        "\n",
        "df_aux['meal'] = pd.Categorical(df_aux['meal']).codes"
      ]
    },
    {
      "cell_type": "code",
      "execution_count": 43,
      "metadata": {
        "id": "4xhOJUqj1JFX"
      },
      "outputs": [],
      "source": [
        "df_test['reserved_room_type'] = pd.Categorical(df_test['reserved_room_type']).codes\n",
        "\n",
        "df_aux['reserved_room_type'] = pd.Categorical(df_aux['reserved_room_type']).codes"
      ]
    },
    {
      "cell_type": "code",
      "execution_count": 44,
      "metadata": {
        "id": "Smch39pM1J2l"
      },
      "outputs": [],
      "source": [
        "df_test['reservation_status_date'] = pd.Categorical(df_test['reservation_status_date']).codes\n",
        "\n",
        "df_aux['reservation_status_date'] = pd.Categorical(df_aux['reservation_status_date']).codes"
      ]
    },
    {
      "cell_type": "code",
      "execution_count": 45,
      "metadata": {
        "id": "i4kYZPjL8ldG"
      },
      "outputs": [],
      "source": [
        "df_aux.columns = df_aux.columns.astype(str)\n",
        "df_test.columns = df_test.columns.astype(str)"
      ]
    },
    {
      "cell_type": "markdown",
      "metadata": {
        "id": "EDm3aeJj0rS-"
      },
      "source": [
        "##Entrenamiento y predicción"
      ]
    },
    {
      "cell_type": "code",
      "execution_count": 46,
      "metadata": {
        "id": "-FhbXgiYHW2E"
      },
      "outputs": [],
      "source": [
        "import pandas as pd\n",
        "import numpy as np\n",
        "\n",
        "#Visualización\n",
        "import matplotlib.pyplot as plt\n",
        "import seaborn as sns\n",
        "\n",
        "#modelos y métricas\n",
        "from sklearn import tree\n",
        "from sklearn.model_selection import GridSearchCV\n",
        "from sklearn.ensemble import RandomForestClassifier\n",
        "from sklearn.model_selection import train_test_split\n",
        "from sklearn.metrics import confusion_matrix, classification_report\n",
        "from sklearn.metrics import precision_recall_curve, roc_curve, recall_score, accuracy_score,f1_score\n",
        "\n",
        "#preprocesamiento\n",
        "from sklearn.preprocessing import MinMaxScaler\n",
        "\n",
        "#configuración warnings\n",
        "import warnings\n",
        "warnings.simplefilter(action='ignore', category=FutureWarning)\n",
        "warnings.simplefilter(action='ignore', category=UserWarning)"
      ]
    },
    {
      "cell_type": "code",
      "execution_count": 47,
      "metadata": {
        "id": "yGTCqlyhlQ3G"
      },
      "outputs": [],
      "source": [
        "\n",
        "X = df_aux.drop('is_canceled', axis=1)\n",
        "y = df_aux.is_canceled\n",
        "\n",
        "\n",
        "#Separacion Train/test (80/20)\n",
        "X_train, X_test, y_train, y_test = train_test_split(X, y, test_size= 0.2, random_state=12)"
      ]
    },
    {
      "cell_type": "code",
      "execution_count": 48,
      "metadata": {
        "id": "shKgyksSqAda",
        "colab": {
          "base_uri": "https://localhost:8080/"
        },
        "outputId": "cc825a47-4f77-4834-97dd-71bfc10059d4"
      },
      "outputs": [
        {
          "output_type": "execute_result",
          "data": {
            "text/plain": [
              "{'algorithm': 'auto',\n",
              " 'leaf_size': 30,\n",
              " 'metric': 'minkowski',\n",
              " 'metric_params': None,\n",
              " 'n_jobs': None,\n",
              " 'n_neighbors': 5,\n",
              " 'p': 2,\n",
              " 'weights': 'uniform'}"
            ]
          },
          "metadata": {},
          "execution_count": 48
        }
      ],
      "source": [
        "#Crear el modelo\n",
        "KNN_Classifier = KNeighborsClassifier()\n",
        "\n",
        "#vemos sus parámetros\n",
        "KNN_Classifier.get_params()"
      ]
    },
    {
      "cell_type": "code",
      "execution_count": 49,
      "metadata": {
        "id": "rMpNmxEf82Um"
      },
      "outputs": [],
      "source": [
        "#Entrenar el modelo\n",
        "KNN_Classifier.fit(X_train, y_train)\n",
        "\n",
        "#Predicción sobre test\n",
        "y_pred = KNN_Classifier.predict(X_test)"
      ]
    },
    {
      "cell_type": "code",
      "execution_count": 50,
      "metadata": {
        "colab": {
          "base_uri": "https://localhost:8080/"
        },
        "id": "TkZsNCJu9NyZ",
        "outputId": "59244f9d-fa90-4b72-e92d-98058e550ba6"
      },
      "outputs": [
        {
          "output_type": "stream",
          "name": "stdout",
          "text": [
            "correctas:  10916\n",
            "total:  12382\n"
          ]
        }
      ],
      "source": [
        "#Cantidad de aciertos\n",
        "print('correctas: ', np.sum(y_test == y_pred))\n",
        "print('total: ', len(y_test))"
      ]
    },
    {
      "cell_type": "code",
      "source": [
        "accuracy=accuracy_score(y_test,y_pred)\n",
        "recall=recall_score(y_test,y_pred)\n",
        "f1=f1_score(y_test,y_pred)\n",
        "\n",
        "print(\"Accuracy: \"+str(accuracy))\n",
        "print(\"Recall: \"+str(recall))\n",
        "print(\"f1 score: \"+str(f1))"
      ],
      "metadata": {
        "colab": {
          "base_uri": "https://localhost:8080/"
        },
        "id": "mhRVaq3xcIaJ",
        "outputId": "60b81116-74d8-45a9-f859-e6687aeaf16c"
      },
      "execution_count": 51,
      "outputs": [
        {
          "output_type": "stream",
          "name": "stdout",
          "text": [
            "Accuracy: 0.8816023259570344\n",
            "Recall: 0.8239585021883612\n",
            "f1 score: 0.8739683631361761\n"
          ]
        }
      ]
    },
    {
      "cell_type": "markdown",
      "source": [
        "###Realizamos otra predicción aplicando lo que nos pedía el enunciado del trabajo práctico que basicamente era construir un clasificador KNN optimizando los hiperparámetros con k-fold cross validation. Para este caso, se eligió RandomSearch Cross Validation ya que según lo visto en la grilla de parámetros, hay un total de 522 combinaciones posibles de valores de hiperparámetros. Por lo tanto, para este caso, no sería correcto utilizar GridSearch Cross Validation para salir a buscar \"la mejor combinacion\" de hiperparámetros ya que con la cantidad de combinacion posibles que hay, explorar cada una de estas, conlleva un alto costo computacional y muchas horas de espera con respecto a la carga de ejecución de la celda (Esto último ya lo hemos probado en una versión alternativa de este código)."
      ],
      "metadata": {
        "id": "WQl-ibyKq6C3"
      }
    },
    {
      "cell_type": "code",
      "execution_count": 52,
      "metadata": {
        "id": "iEeAdqNNEVRU"
      },
      "outputs": [],
      "source": [
        "from sklearn.model_selection import RandomizedSearchCV\n",
        "\n",
        "#Grilla de Parámetros\n",
        "params_grid={ 'n_neighbors':range(1,30),\n",
        "              'weights':['distance','uniform'],\n",
        "              'algorithm':['ball_tree', 'kd_tree', 'brute'],\n",
        "              'metric':['euclidean','manhattan','chebyshev']\n",
        "             }"
      ]
    },
    {
      "cell_type": "code",
      "execution_count": 53,
      "metadata": {
        "id": "sxlQlipzEtFm",
        "colab": {
          "base_uri": "https://localhost:8080/"
        },
        "outputId": "c76df517-244d-4e04-942c-a6d00e80ef71"
      },
      "outputs": [
        {
          "output_type": "stream",
          "name": "stdout",
          "text": [
            "Fitting 5 folds for each of 1 candidates, totalling 5 fits\n",
            "[CV 1/5; 1/1] START algorithm=kd_tree, metric=euclidean, n_neighbors=17, weights=distance\n",
            "[CV 1/5; 1/1] END algorithm=kd_tree, metric=euclidean, n_neighbors=17, weights=distance;, score=0.867 total time=   1.5s\n",
            "[CV 2/5; 1/1] START algorithm=kd_tree, metric=euclidean, n_neighbors=17, weights=distance\n",
            "[CV 2/5; 1/1] END algorithm=kd_tree, metric=euclidean, n_neighbors=17, weights=distance;, score=0.870 total time=   1.5s\n",
            "[CV 3/5; 1/1] START algorithm=kd_tree, metric=euclidean, n_neighbors=17, weights=distance\n",
            "[CV 3/5; 1/1] END algorithm=kd_tree, metric=euclidean, n_neighbors=17, weights=distance;, score=0.870 total time=   1.5s\n",
            "[CV 4/5; 1/1] START algorithm=kd_tree, metric=euclidean, n_neighbors=17, weights=distance\n",
            "[CV 4/5; 1/1] END algorithm=kd_tree, metric=euclidean, n_neighbors=17, weights=distance;, score=0.878 total time=   1.5s\n",
            "[CV 5/5; 1/1] START algorithm=kd_tree, metric=euclidean, n_neighbors=17, weights=distance\n",
            "[CV 5/5; 1/1] END algorithm=kd_tree, metric=euclidean, n_neighbors=17, weights=distance;, score=0.872 total time=   1.5s\n"
          ]
        },
        {
          "output_type": "execute_result",
          "data": {
            "text/plain": [
              "array([0.87122187])"
            ]
          },
          "metadata": {},
          "execution_count": 53
        }
      ],
      "source": [
        "#Clasificador KNN\n",
        "KNN_Classifier=KNeighborsClassifier()\n",
        "\n",
        "#Random Search con 10 Folds y 10 iteraciones\n",
        "rand = RandomizedSearchCV(KNN_Classifier, params_grid, scoring='accuracy', n_iter=1, random_state=5, verbose=1000)\n",
        "rand.fit(X_train, y_train)\n",
        "rand.cv_results_['mean_test_score']"
      ]
    },
    {
      "cell_type": "code",
      "execution_count": 54,
      "metadata": {
        "id": "sWHhTxrtGRo2",
        "colab": {
          "base_uri": "https://localhost:8080/"
        },
        "outputId": "fd009893-6675-43b5-ba6d-b7228e8f03a2"
      },
      "outputs": [
        {
          "output_type": "stream",
          "name": "stdout",
          "text": [
            "Accuracy: 0.876433532547246\n",
            "Recall: 0.8108283352245097\n",
            "f1 score: 0.8673487081671579\n"
          ]
        }
      ],
      "source": [
        "y_pred_train = rand.predict(X_test)\n",
        "\n",
        "accuracy=accuracy_score(y_test,y_pred_train)\n",
        "recall=recall_score(y_test,y_pred_train)\n",
        "f1=f1_score(y_test,y_pred_train)\n",
        "\n",
        "print(\"Accuracy: \"+str(accuracy))\n",
        "print(\"Recall: \"+str(recall))\n",
        "print(\"f1 score: \"+str(f1))"
      ]
    },
    {
      "cell_type": "code",
      "source": [
        "#Cantidad de aciertos\n",
        "print('correctas: ', np.sum(y_test == y_pred_train))\n",
        "print('total: ', len(y_test))"
      ],
      "metadata": {
        "colab": {
          "base_uri": "https://localhost:8080/"
        },
        "id": "s4fV16V3xpZQ",
        "outputId": "45874c54-d255-4558-c51c-ea49f81c5796"
      },
      "execution_count": 55,
      "outputs": [
        {
          "output_type": "stream",
          "name": "stdout",
          "text": [
            "correctas:  10852\n",
            "total:  12382\n"
          ]
        }
      ]
    },
    {
      "cell_type": "code",
      "source": [
        "from sklearn.metrics import confusion_matrix, classification_report , f1_score\n",
        "print('F1-Score: {}'.format(f1_score(y_test, y_pred_train, average='binary'))) #binary considera la clase positiva por defecto 1\n",
        "\n",
        "cm = confusion_matrix(y_test,y_pred_train)\n",
        "sns.heatmap(cm, cmap='Blues',annot=True,fmt='g')\n",
        "plt.xlabel('Predicted')\n",
        "plt.ylabel('True')"
      ],
      "metadata": {
        "colab": {
          "base_uri": "https://localhost:8080/",
          "height": 484
        },
        "id": "S4vGymF20uBm",
        "outputId": "2a6c6b95-c56b-47de-f0e7-14b9a6a6c126"
      },
      "execution_count": 56,
      "outputs": [
        {
          "output_type": "stream",
          "name": "stdout",
          "text": [
            "F1-Score: 0.8673487081671579\n"
          ]
        },
        {
          "output_type": "execute_result",
          "data": {
            "text/plain": [
              "Text(50.722222222222214, 0.5, 'True')"
            ]
          },
          "metadata": {},
          "execution_count": 56
        },
        {
          "output_type": "display_data",
          "data": {
            "text/plain": [
              "<Figure size 640x480 with 2 Axes>"
            ],
            "image/png": "[encoded data removed]"
          },
          "metadata": {}
        }
      ]
    },
    {
      "cell_type": "code",
      "execution_count": 57,
      "metadata": {
        "id": "yT_xoAOAaR1M",
        "colab": {
          "base_uri": "https://localhost:8080/"
        },
        "outputId": "ef781585-ad78-4989-8dba-bee579ea2d61"
      },
      "outputs": [
        {
          "output_type": "execute_result",
          "data": {
            "text/plain": [
              "{'weights': 'distance',\n",
              " 'n_neighbors': 17,\n",
              " 'metric': 'euclidean',\n",
              " 'algorithm': 'kd_tree'}"
            ]
          },
          "metadata": {},
          "execution_count": 57
        }
      ],
      "source": [
        "rand.best_params_"
      ]
    },
    {
      "cell_type": "code",
      "execution_count": 58,
      "metadata": {
        "id": "m-mBNbOmVKid",
        "colab": {
          "base_uri": "https://localhost:8080/"
        },
        "outputId": "7df530bf-7faf-4158-a694-6a93b0f2b804"
      },
      "outputs": [
        {
          "output_type": "execute_result",
          "data": {
            "text/plain": [
              "['knn_cv.joblib']"
            ]
          },
          "metadata": {},
          "execution_count": 58
        }
      ],
      "source": [
        "from joblib import dump, load\n",
        "dump(rand, 'knn_cv.joblib')"
      ]
    },
    {
      "cell_type": "code",
      "execution_count": 59,
      "metadata": {
        "id": "nbaF9yHhJtII"
      },
      "outputs": [],
      "source": [
        "y_pred = rand.predict(df_test)"
      ]
    },
    {
      "cell_type": "code",
      "execution_count": 60,
      "metadata": {
        "id": "cLQ_qLCuPoC7",
        "colab": {
          "base_uri": "https://localhost:8080/",
          "height": 424
        },
        "outputId": "ccc7ad75-6656-469f-b3c5-df4d913b1c5b"
      },
      "outputs": [
        {
          "output_type": "execute_result",
          "data": {
            "text/plain": [
              "                                         id  is_canceled\n",
              "0      e6d0d58a-ab96-44d3-b28f-85df1cc15f1e            1\n",
              "1      aba9aac2-4495-4645-a60e-90328713c999            1\n",
              "2      b345b5dc-c804-4d77-a39f-1f4e65d1f1ad            0\n",
              "3      ce1b400e-afa1-4946-bdff-004b859eb61c            1\n",
              "4      c4fbec0d-8e2e-4db2-9d4f-a6ccb9f51214            1\n",
              "...                                     ...          ...\n",
              "26530  636ccded-66ad-4538-8006-c0b9f84c6256            0\n",
              "26531  11e19741-bd28-4459-8ea3-184f1664000f            0\n",
              "26532  36a4c7b0-d6b1-4528-93db-311be96ec1c6            1\n",
              "26533  89c85fa5-2b3d-4131-844c-e151a65ca240            1\n",
              "26534  bd4e9eee-f28e-4a53-b4a1-277426efbcee            0\n",
              "\n",
              "[26535 rows x 2 columns]"
            ],
            "text/html": [
              "\n",
              "  <div id=\"df-aee2a847-6583-4dcf-b4a8-ecc2567ba133\" class=\"colab-df-container\">\n",
              "    <div>\n",
              "<style scoped>\n",
              "    .dataframe tbody tr th:only-of-type {\n",
              "        vertical-align: middle;\n",
              "    }\n",
              "\n",
              "    .dataframe tbody tr th {\n",
              "        vertical-align: top;\n",
              "    }\n",
              "\n",
              "    .dataframe thead th {\n",
              "        text-align: right;\n",
              "    }\n",
              "</style>\n",
              "<table border=\"1\" class=\"dataframe\">\n",
              "  <thead>\n",
              "    <tr style=\"text-align: right;\">\n",
              "      <th></th>\n",
              "      <th>id</th>\n",
              "      <th>is_canceled</th>\n",
              "    </tr>\n",
              "  </thead>\n",
              "  <tbody>\n",
              "    <tr>\n",
              "      <th>0</th>\n",
              "      <td>e6d0d58a-ab96-44d3-b28f-85df1cc15f1e</td>\n",
              "      <td>1</td>\n",
              "    </tr>\n",
              "    <tr>\n",
              "      <th>1</th>\n",
              "      <td>aba9aac2-4495-4645-a60e-90328713c999</td>\n",
              "      <td>1</td>\n",
              "    </tr>\n",
              "    <tr>\n",
              "      <th>2</th>\n",
              "      <td>b345b5dc-c804-4d77-a39f-1f4e65d1f1ad</td>\n",
              "      <td>0</td>\n",
              "    </tr>\n",
              "    <tr>\n",
              "      <th>3</th>\n",
              "      <td>ce1b400e-afa1-4946-bdff-004b859eb61c</td>\n",
              "      <td>1</td>\n",
              "    </tr>\n",
              "    <tr>\n",
              "      <th>4</th>\n",
              "      <td>c4fbec0d-8e2e-4db2-9d4f-a6ccb9f51214</td>\n",
              "      <td>1</td>\n",
              "    </tr>\n",
              "    <tr>\n",
              "      <th>...</th>\n",
              "      <td>...</td>\n",
              "      <td>...</td>\n",
              "    </tr>\n",
              "    <tr>\n",
              "      <th>26530</th>\n",
              "      <td>636ccded-66ad-4538-8006-c0b9f84c6256</td>\n",
              "      <td>0</td>\n",
              "    </tr>\n",
              "    <tr>\n",
              "      <th>26531</th>\n",
              "      <td>11e19741-bd28-4459-8ea3-184f1664000f</td>\n",
              "      <td>0</td>\n",
              "    </tr>\n",
              "    <tr>\n",
              "      <th>26532</th>\n",
              "      <td>36a4c7b0-d6b1-4528-93db-311be96ec1c6</td>\n",
              "      <td>1</td>\n",
              "    </tr>\n",
              "    <tr>\n",
              "      <th>26533</th>\n",
              "      <td>89c85fa5-2b3d-4131-844c-e151a65ca240</td>\n",
              "      <td>1</td>\n",
              "    </tr>\n",
              "    <tr>\n",
              "      <th>26534</th>\n",
              "      <td>bd4e9eee-f28e-4a53-b4a1-277426efbcee</td>\n",
              "      <td>0</td>\n",
              "    </tr>\n",
              "  </tbody>\n",
              "</table>\n",
              "<p>26535 rows × 2 columns</p>\n",
              "</div>\n",
              "    <div class=\"colab-df-buttons\">\n",
              "\n",
              "  <div class=\"colab-df-container\">\n",
              "    <button class=\"colab-df-convert\" onclick=\"convertToInteractive('df-aee2a847-6583-4dcf-b4a8-ecc2567ba133')\"\n",
              "            title=\"Convert this dataframe to an interactive table.\"\n",
              "            style=\"display:none;\">\n",
              "\n",
              "  <svg xmlns=\"http://www.w3.org/2000/svg\" height=\"24px\" viewBox=\"0 -960 960 960\">\n",
              "    <path d=\"M120-120v-720h720v720H120Zm60-500h600v-160H180v160Zm220 220h160v-160H400v160Zm0 220h160v-160H400v160ZM180-400h160v-160H180v160Zm440 0h160v-160H620v160ZM180-180h160v-160H180v160Zm440 0h160v-160H620v160Z\"/>\n",
              "  </svg>\n",
              "    </button>\n",
              "\n",
              "  <style>\n",
              "    .colab-df-container {\n",
              "      display:flex;\n",
              "      gap: 12px;\n",
              "    }\n",
              "\n",
              "    .colab-df-convert {\n",
              "      background-color: #E8F0FE;\n",
              "      border: none;\n",
              "      border-radius: 50%;\n",
              "      cursor: pointer;\n",
              "      display: none;\n",
              "      fill: #1967D2;\n",
              "      height: 32px;\n",
              "      padding: 0 0 0 0;\n",
              "      width: 32px;\n",
              "    }\n",
              "\n",
              "    .colab-df-convert:hover {\n",
              "      background-color: #E2EBFA;\n",
              "      box-shadow: 0px 1px 2px rgba(60, 64, 67, 0.3), 0px 1px 3px 1px rgba(60, 64, 67, 0.15);\n",
              "      fill: #174EA6;\n",
              "    }\n",
              "\n",
              "    .colab-df-buttons div {\n",
              "      margin-bottom: 4px;\n",
              "    }\n",
              "\n",
              "    [theme=dark] .colab-df-convert {\n",
              "      background-color: #3B4455;\n",
              "      fill: #D2E3FC;\n",
              "    }\n",
              "\n",
              "    [theme=dark] .colab-df-convert:hover {\n",
              "      background-color: #434B5C;\n",
              "      box-shadow: 0px 1px 3px 1px rgba(0, 0, 0, 0.15);\n",
              "      filter: drop-shadow(0px 1px 2px rgba(0, 0, 0, 0.3));\n",
              "      fill: #FFFFFF;\n",
              "    }\n",
              "  </style>\n",
              "\n",
              "    <script>\n",
              "      const buttonEl =\n",
              "        document.querySelector('#df-aee2a847-6583-4dcf-b4a8-ecc2567ba133 button.colab-df-convert');\n",
              "      buttonEl.style.display =\n",
              "        google.colab.kernel.accessAllowed ? 'block' : 'none';\n",
              "\n",
              "      async function convertToInteractive(key) {\n",
              "        const element = document.querySelector('#df-aee2a847-6583-4dcf-b4a8-ecc2567ba133');\n",
              "        const dataTable =\n",
              "          await google.colab.kernel.invokeFunction('convertToInteractive',\n",
              "                                                    [key], {});\n",
              "        if (!dataTable) return;\n",
              "\n",
              "        const docLinkHtml = 'Like what you see? Visit the ' +\n",
              "          '<a target=\"_blank\" href=https://colab.research.google.com/notebooks/data_table.ipynb>data table notebook</a>'\n",
              "          + ' to learn more about interactive tables.';\n",
              "        element.innerHTML = '';\n",
              "        dataTable['output_type'] = 'display_data';\n",
              "        await google.colab.output.renderOutput(dataTable, element);\n",
              "        const docLink = document.createElement('div');\n",
              "        docLink.innerHTML = docLinkHtml;\n",
              "        element.appendChild(docLink);\n",
              "      }\n",
              "    </script>\n",
              "  </div>\n",
              "\n",
              "\n",
              "<div id=\"df-3b1ee51c-a2ce-44e2-85e1-05a4f80218c1\">\n",
              "  <button class=\"colab-df-quickchart\" onclick=\"quickchart('df-3b1ee51c-a2ce-44e2-85e1-05a4f80218c1')\"\n",
              "            title=\"Suggest charts\"\n",
              "            style=\"display:none;\">\n",
              "\n",
              "<svg xmlns=\"http://www.w3.org/2000/svg\" height=\"24px\"viewBox=\"0 0 24 24\"\n",
              "     width=\"24px\">\n",
              "    <g>\n",
              "        <path d=\"M19 3H5c-1.1 0-2 .9-2 2v14c0 1.1.9 2 2 2h14c1.1 0 2-.9 2-2V5c0-1.1-.9-2-2-2zM9 17H7v-7h2v7zm4 0h-2V7h2v10zm4 0h-2v-4h2v4z\"/>\n",
              "    </g>\n",
              "</svg>\n",
              "  </button>\n",
              "\n",
              "<style>\n",
              "  .colab-df-quickchart {\n",
              "      --bg-color: #E8F0FE;\n",
              "      --fill-color: #1967D2;\n",
              "      --hover-bg-color: #E2EBFA;\n",
              "      --hover-fill-color: #174EA6;\n",
              "      --disabled-fill-color: #AAA;\n",
              "      --disabled-bg-color: #DDD;\n",
              "  }\n",
              "\n",
              "  [theme=dark] .colab-df-quickchart {\n",
              "      --bg-color: #3B4455;\n",
              "      --fill-color: #D2E3FC;\n",
              "      --hover-bg-color: #434B5C;\n",
              "      --hover-fill-color: #FFFFFF;\n",
              "      --disabled-bg-color: #3B4455;\n",
              "      --disabled-fill-color: #666;\n",
              "  }\n",
              "\n",
              "  .colab-df-quickchart {\n",
              "    background-color: var(--bg-color);\n",
              "    border: none;\n",
              "    border-radius: 50%;\n",
              "    cursor: pointer;\n",
              "    display: none;\n",
              "    fill: var(--fill-color);\n",
              "    height: 32px;\n",
              "    padding: 0;\n",
              "    width: 32px;\n",
              "  }\n",
              "\n",
              "  .colab-df-quickchart:hover {\n",
              "    background-color: var(--hover-bg-color);\n",
              "    box-shadow: 0 1px 2px rgba(60, 64, 67, 0.3), 0 1px 3px 1px rgba(60, 64, 67, 0.15);\n",
              "    fill: var(--button-hover-fill-color);\n",
              "  }\n",
              "\n",
              "  .colab-df-quickchart-complete:disabled,\n",
              "  .colab-df-quickchart-complete:disabled:hover {\n",
              "    background-color: var(--disabled-bg-color);\n",
              "    fill: var(--disabled-fill-color);\n",
              "    box-shadow: none;\n",
              "  }\n",
              "\n",
              "  .colab-df-spinner {\n",
              "    border: 2px solid var(--fill-color);\n",
              "    border-color: transparent;\n",
              "    border-bottom-color: var(--fill-color);\n",
              "    animation:\n",
              "      spin 1s steps(1) infinite;\n",
              "  }\n",
              "\n",
              "  @keyframes spin {\n",
              "    0% {\n",
              "      border-color: transparent;\n",
              "      border-bottom-color: var(--fill-color);\n",
              "      border-left-color: var(--fill-color);\n",
              "    }\n",
              "    20% {\n",
              "      border-color: transparent;\n",
              "      border-left-color: var(--fill-color);\n",
              "      border-top-color: var(--fill-color);\n",
              "    }\n",
              "    30% {\n",
              "      border-color: transparent;\n",
              "      border-left-color: var(--fill-color);\n",
              "      border-top-color: var(--fill-color);\n",
              "      border-right-color: var(--fill-color);\n",
              "    }\n",
              "    40% {\n",
              "      border-color: transparent;\n",
              "      border-right-color: var(--fill-color);\n",
              "      border-top-color: var(--fill-color);\n",
              "    }\n",
              "    60% {\n",
              "      border-color: transparent;\n",
              "      border-right-color: var(--fill-color);\n",
              "    }\n",
              "    80% {\n",
              "      border-color: transparent;\n",
              "      border-right-color: var(--fill-color);\n",
              "      border-bottom-color: var(--fill-color);\n",
              "    }\n",
              "    90% {\n",
              "      border-color: transparent;\n",
              "      border-bottom-color: var(--fill-color);\n",
              "    }\n",
              "  }\n",
              "</style>\n",
              "\n",
              "  <script>\n",
              "    async function quickchart(key) {\n",
              "      const quickchartButtonEl =\n",
              "        document.querySelector('#' + key + ' button');\n",
              "      quickchartButtonEl.disabled = true;  // To prevent multiple clicks.\n",
              "      quickchartButtonEl.classList.add('colab-df-spinner');\n",
              "      try {\n",
              "        const charts = await google.colab.kernel.invokeFunction(\n",
              "            'suggestCharts', [key], {});\n",
              "      } catch (error) {\n",
              "        console.error('Error during call to suggestCharts:', error);\n",
              "      }\n",
              "      quickchartButtonEl.classList.remove('colab-df-spinner');\n",
              "      quickchartButtonEl.classList.add('colab-df-quickchart-complete');\n",
              "    }\n",
              "    (() => {\n",
              "      let quickchartButtonEl =\n",
              "        document.querySelector('#df-3b1ee51c-a2ce-44e2-85e1-05a4f80218c1 button');\n",
              "      quickchartButtonEl.style.display =\n",
              "        google.colab.kernel.accessAllowed ? 'block' : 'none';\n",
              "    })();\n",
              "  </script>\n",
              "</div>\n",
              "    </div>\n",
              "  </div>\n"
            ],
            "application/vnd.google.colaboratory.intrinsic+json": {
              "type": "dataframe",
              "variable_name": "df_prediction",
              "summary": "{\n  \"name\": \"df_prediction\",\n  \"rows\": 26535,\n  \"fields\": [\n    {\n      \"column\": \"id\",\n      \"properties\": {\n        \"dtype\": \"string\",\n        \"num_unique_values\": 26535,\n        \"samples\": [\n          \"65acd3d5-8495-4296-8e29-29461b96f197\",\n          \"20049fc3-8aca-4c8c-89a4-5d3aa4dc2de6\",\n          \"3b52bdac-1626-405d-8607-1ac95bd8b468\"\n        ],\n        \"semantic_type\": \"\",\n        \"description\": \"\"\n      }\n    },\n    {\n      \"column\": \"is_canceled\",\n      \"properties\": {\n        \"dtype\": \"number\",\n        \"std\": 0,\n        \"min\": 0,\n        \"max\": 1,\n        \"num_unique_values\": 2,\n        \"samples\": [\n          0,\n          1\n        ],\n        \"semantic_type\": \"\",\n        \"description\": \"\"\n      }\n    }\n  ]\n}"
            }
          },
          "metadata": {},
          "execution_count": 60
        }
      ],
      "source": [
        "df_prediction = pd.DataFrame(zip(df_test_id,y_pred)).rename(columns={0: \"id\", 1: \"is_canceled\"})\n",
        "df_prediction"
      ]
    },
    {
      "cell_type": "code",
      "execution_count": 61,
      "metadata": {
        "id": "gYHejzpoPYc1"
      },
      "outputs": [],
      "source": [
        "df_prediction.to_csv('knn_prediction.csv', index=False)"
      ]
    },
    {
      "cell_type": "code",
      "source": [
        "df_aux.to_csv('knn_dataset_hotels_train.csv', index=False)"
      ],
      "metadata": {
        "id": "QD_LD1ay0iJ-"
      },
      "execution_count": 62,
      "outputs": []
    }
  ],
  "metadata": {
    "colab": {
      "provenance": [],
      "collapsed_sections": [
        "VKm19mmZvdLk",
        "bu2JaRCwECyb"
      ]
    },
    "kernelspec": {
      "display_name": "Python 3",
      "name": "python3"
    },
    "language_info": {
      "name": "python"
    }
  },
  "nbformat": 4,
  "nbformat_minor": 0
}